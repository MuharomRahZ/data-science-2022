{
  "nbformat": 4,
  "nbformat_minor": 0,
  "metadata": {
    "colab": {
      "name": "19650079_RahmatZakiMuharom_UAS.ipynb",
      "provenance": [],
      "collapsed_sections": []
    },
    "kernelspec": {
      "name": "python3",
      "display_name": "Python 3"
    },
    "language_info": {
      "name": "python"
    }
  },
  "cells": [
    {
      "cell_type": "markdown",
      "metadata": {
        "id": "BGrC2L48I92K"
      },
      "source": [
        "# Data Science - Ujian Akhir Semester\n",
        "- Nama: Rahmat Zaki Muharom\n",
        "- NIM: 19650079\n",
        "- Kelas: Data Science - D"
      ]
    },
    {
      "cell_type": "markdown",
      "source": [
        "## Analisis & Model Regresi Linear Pada Data Menu Pizza (Visualisasi, EDA, & Prediksi Harga)"
      ],
      "metadata": {
        "id": "rZG0JtsVfTgF"
      }
    },
    {
      "cell_type": "markdown",
      "metadata": {
        "id": "l6fJm4nrzznD"
      },
      "source": [
        "### IMPORT PACKAGES"
      ]
    },
    {
      "cell_type": "code",
      "metadata": {
        "id": "ymMxrLqzz6Vl",
        "colab": {
          "base_uri": "https://localhost:8080/"
        },
        "outputId": "3803284c-81f1-42f2-f9b8-6fd74614d7ee"
      },
      "source": [
        "from google.colab import drive\n",
        "drive.mount('/content/gdrive')"
      ],
      "execution_count": 1,
      "outputs": [
        {
          "output_type": "stream",
          "name": "stdout",
          "text": [
            "Drive already mounted at /content/gdrive; to attempt to forcibly remount, call drive.mount(\"/content/gdrive\", force_remount=True).\n"
          ]
        }
      ]
    },
    {
      "cell_type": "code",
      "source": [
        "# Load library/package\n",
        "import os\n",
        "import warnings\n",
        "import pandas as pd\n",
        "import numpy as np\n",
        "import seaborn as sns\n",
        "import matplotlib\n",
        "import matplotlib.pyplot as plt\n",
        "from sklearn import metrics\n",
        "\n",
        "# Sklearn\n",
        "from sklearn.linear_model import LinearRegression\n",
        "from sklearn.model_selection import train_test_split\n",
        "from sklearn.preprocessing import StandardScaler, LabelEncoder\n",
        "\n",
        "# Statmodels\n",
        "import statsmodels\n",
        "import statsmodels.api as sm"
      ],
      "metadata": {
        "id": "u7FpVWKzfo8F",
        "colab": {
          "base_uri": "https://localhost:8080/"
        },
        "outputId": "d1f4173c-0121-4cac-d005-5d1442274a3f"
      },
      "execution_count": 2,
      "outputs": [
        {
          "output_type": "stream",
          "name": "stderr",
          "text": [
            "/usr/local/lib/python3.7/dist-packages/statsmodels/tools/_testing.py:19: FutureWarning: pandas.util.testing is deprecated. Use the functions in the public API at pandas.testing instead.\n",
            "  import pandas.util.testing as tm\n"
          ]
        }
      ]
    },
    {
      "cell_type": "code",
      "source": [
        "print(matplotlib.__version__)"
      ],
      "metadata": {
        "colab": {
          "base_uri": "https://localhost:8080/"
        },
        "id": "z2GmNUMAAGWz",
        "outputId": "7af99fbf-2a90-4297-e38c-a5efbfcfc1b6"
      },
      "execution_count": 3,
      "outputs": [
        {
          "output_type": "stream",
          "name": "stdout",
          "text": [
            "3.5.2\n"
          ]
        }
      ]
    },
    {
      "cell_type": "code",
      "source": [
        "#!pip3 install matplotlib --upgrade"
      ],
      "metadata": {
        "id": "wwfUUCJPASKk"
      },
      "execution_count": 4,
      "outputs": []
    },
    {
      "cell_type": "markdown",
      "metadata": {
        "id": "W0M12Y1Xz_K9"
      },
      "source": [
        "### LOAD DATASET"
      ]
    },
    {
      "cell_type": "code",
      "metadata": {
        "id": "kCYapI1v0M3I"
      },
      "source": [
        "path = \"gdrive/My Drive/Data Science 2022/Data/\""
      ],
      "execution_count": 5,
      "outputs": []
    },
    {
      "cell_type": "code",
      "source": [
        "os.listdir(path)"
      ],
      "metadata": {
        "colab": {
          "base_uri": "https://localhost:8080/"
        },
        "id": "nA9yOBpEf0fw",
        "outputId": "615b7e2e-302b-4fd0-b3c1-c76ba142c171"
      },
      "execution_count": 6,
      "outputs": [
        {
          "output_type": "execute_result",
          "data": {
            "text/plain": [
              "['pizza_v2.csv', 'house_prices.csv']"
            ]
          },
          "metadata": {},
          "execution_count": 6
        }
      ]
    },
    {
      "cell_type": "code",
      "source": [
        "df = pd.read_csv(path + \"pizza_v2.csv\")"
      ],
      "metadata": {
        "id": "BsjSGS9Rf6PS"
      },
      "execution_count": 7,
      "outputs": []
    },
    {
      "cell_type": "code",
      "source": [
        "df.head()"
      ],
      "metadata": {
        "colab": {
          "base_uri": "https://localhost:8080/",
          "height": 206
        },
        "id": "8GZrIgTVf9IB",
        "outputId": "cab2dd81-0db3-4555-a943-2ac28f576c7c"
      },
      "execution_count": 8,
      "outputs": [
        {
          "output_type": "execute_result",
          "data": {
            "text/plain": [
              "  company price_rupiah diameter      topping           variant     size  \\\n",
              "0       A    Rp235,000  22 inch      chicken  double_signature    jumbo   \n",
              "1       A    Rp198,000  20 inch    papperoni  double_signature    jumbo   \n",
              "2       A    Rp120,000  16 inch    mushrooms  double_signature  reguler   \n",
              "3       A    Rp155,000  14 inch  smoked_beef  double_signature  reguler   \n",
              "4       A    Rp248,000  18 inch   mozzarella  double_signature    jumbo   \n",
              "\n",
              "  extra_sauce extra_cheese extra_mushrooms  \n",
              "0         yes          yes              no  \n",
              "1         yes          yes              no  \n",
              "2         yes          yes             yes  \n",
              "3         yes           no             yes  \n",
              "4         yes           no             yes  "
            ],
            "text/html": [
              "\n",
              "  <div id=\"df-561dff65-5784-4e0f-9aa6-47e1782cb527\">\n",
              "    <div class=\"colab-df-container\">\n",
              "      <div>\n",
              "<style scoped>\n",
              "    .dataframe tbody tr th:only-of-type {\n",
              "        vertical-align: middle;\n",
              "    }\n",
              "\n",
              "    .dataframe tbody tr th {\n",
              "        vertical-align: top;\n",
              "    }\n",
              "\n",
              "    .dataframe thead th {\n",
              "        text-align: right;\n",
              "    }\n",
              "</style>\n",
              "<table border=\"1\" class=\"dataframe\">\n",
              "  <thead>\n",
              "    <tr style=\"text-align: right;\">\n",
              "      <th></th>\n",
              "      <th>company</th>\n",
              "      <th>price_rupiah</th>\n",
              "      <th>diameter</th>\n",
              "      <th>topping</th>\n",
              "      <th>variant</th>\n",
              "      <th>size</th>\n",
              "      <th>extra_sauce</th>\n",
              "      <th>extra_cheese</th>\n",
              "      <th>extra_mushrooms</th>\n",
              "    </tr>\n",
              "  </thead>\n",
              "  <tbody>\n",
              "    <tr>\n",
              "      <th>0</th>\n",
              "      <td>A</td>\n",
              "      <td>Rp235,000</td>\n",
              "      <td>22 inch</td>\n",
              "      <td>chicken</td>\n",
              "      <td>double_signature</td>\n",
              "      <td>jumbo</td>\n",
              "      <td>yes</td>\n",
              "      <td>yes</td>\n",
              "      <td>no</td>\n",
              "    </tr>\n",
              "    <tr>\n",
              "      <th>1</th>\n",
              "      <td>A</td>\n",
              "      <td>Rp198,000</td>\n",
              "      <td>20 inch</td>\n",
              "      <td>papperoni</td>\n",
              "      <td>double_signature</td>\n",
              "      <td>jumbo</td>\n",
              "      <td>yes</td>\n",
              "      <td>yes</td>\n",
              "      <td>no</td>\n",
              "    </tr>\n",
              "    <tr>\n",
              "      <th>2</th>\n",
              "      <td>A</td>\n",
              "      <td>Rp120,000</td>\n",
              "      <td>16 inch</td>\n",
              "      <td>mushrooms</td>\n",
              "      <td>double_signature</td>\n",
              "      <td>reguler</td>\n",
              "      <td>yes</td>\n",
              "      <td>yes</td>\n",
              "      <td>yes</td>\n",
              "    </tr>\n",
              "    <tr>\n",
              "      <th>3</th>\n",
              "      <td>A</td>\n",
              "      <td>Rp155,000</td>\n",
              "      <td>14 inch</td>\n",
              "      <td>smoked_beef</td>\n",
              "      <td>double_signature</td>\n",
              "      <td>reguler</td>\n",
              "      <td>yes</td>\n",
              "      <td>no</td>\n",
              "      <td>yes</td>\n",
              "    </tr>\n",
              "    <tr>\n",
              "      <th>4</th>\n",
              "      <td>A</td>\n",
              "      <td>Rp248,000</td>\n",
              "      <td>18 inch</td>\n",
              "      <td>mozzarella</td>\n",
              "      <td>double_signature</td>\n",
              "      <td>jumbo</td>\n",
              "      <td>yes</td>\n",
              "      <td>no</td>\n",
              "      <td>yes</td>\n",
              "    </tr>\n",
              "  </tbody>\n",
              "</table>\n",
              "</div>\n",
              "      <button class=\"colab-df-convert\" onclick=\"convertToInteractive('df-561dff65-5784-4e0f-9aa6-47e1782cb527')\"\n",
              "              title=\"Convert this dataframe to an interactive table.\"\n",
              "              style=\"display:none;\">\n",
              "        \n",
              "  <svg xmlns=\"http://www.w3.org/2000/svg\" height=\"24px\"viewBox=\"0 0 24 24\"\n",
              "       width=\"24px\">\n",
              "    <path d=\"M0 0h24v24H0V0z\" fill=\"none\"/>\n",
              "    <path d=\"M18.56 5.44l.94 2.06.94-2.06 2.06-.94-2.06-.94-.94-2.06-.94 2.06-2.06.94zm-11 1L8.5 8.5l.94-2.06 2.06-.94-2.06-.94L8.5 2.5l-.94 2.06-2.06.94zm10 10l.94 2.06.94-2.06 2.06-.94-2.06-.94-.94-2.06-.94 2.06-2.06.94z\"/><path d=\"M17.41 7.96l-1.37-1.37c-.4-.4-.92-.59-1.43-.59-.52 0-1.04.2-1.43.59L10.3 9.45l-7.72 7.72c-.78.78-.78 2.05 0 2.83L4 21.41c.39.39.9.59 1.41.59.51 0 1.02-.2 1.41-.59l7.78-7.78 2.81-2.81c.8-.78.8-2.07 0-2.86zM5.41 20L4 18.59l7.72-7.72 1.47 1.35L5.41 20z\"/>\n",
              "  </svg>\n",
              "      </button>\n",
              "      \n",
              "  <style>\n",
              "    .colab-df-container {\n",
              "      display:flex;\n",
              "      flex-wrap:wrap;\n",
              "      gap: 12px;\n",
              "    }\n",
              "\n",
              "    .colab-df-convert {\n",
              "      background-color: #E8F0FE;\n",
              "      border: none;\n",
              "      border-radius: 50%;\n",
              "      cursor: pointer;\n",
              "      display: none;\n",
              "      fill: #1967D2;\n",
              "      height: 32px;\n",
              "      padding: 0 0 0 0;\n",
              "      width: 32px;\n",
              "    }\n",
              "\n",
              "    .colab-df-convert:hover {\n",
              "      background-color: #E2EBFA;\n",
              "      box-shadow: 0px 1px 2px rgba(60, 64, 67, 0.3), 0px 1px 3px 1px rgba(60, 64, 67, 0.15);\n",
              "      fill: #174EA6;\n",
              "    }\n",
              "\n",
              "    [theme=dark] .colab-df-convert {\n",
              "      background-color: #3B4455;\n",
              "      fill: #D2E3FC;\n",
              "    }\n",
              "\n",
              "    [theme=dark] .colab-df-convert:hover {\n",
              "      background-color: #434B5C;\n",
              "      box-shadow: 0px 1px 3px 1px rgba(0, 0, 0, 0.15);\n",
              "      filter: drop-shadow(0px 1px 2px rgba(0, 0, 0, 0.3));\n",
              "      fill: #FFFFFF;\n",
              "    }\n",
              "  </style>\n",
              "\n",
              "      <script>\n",
              "        const buttonEl =\n",
              "          document.querySelector('#df-561dff65-5784-4e0f-9aa6-47e1782cb527 button.colab-df-convert');\n",
              "        buttonEl.style.display =\n",
              "          google.colab.kernel.accessAllowed ? 'block' : 'none';\n",
              "\n",
              "        async function convertToInteractive(key) {\n",
              "          const element = document.querySelector('#df-561dff65-5784-4e0f-9aa6-47e1782cb527');\n",
              "          const dataTable =\n",
              "            await google.colab.kernel.invokeFunction('convertToInteractive',\n",
              "                                                     [key], {});\n",
              "          if (!dataTable) return;\n",
              "\n",
              "          const docLinkHtml = 'Like what you see? Visit the ' +\n",
              "            '<a target=\"_blank\" href=https://colab.research.google.com/notebooks/data_table.ipynb>data table notebook</a>'\n",
              "            + ' to learn more about interactive tables.';\n",
              "          element.innerHTML = '';\n",
              "          dataTable['output_type'] = 'display_data';\n",
              "          await google.colab.output.renderOutput(dataTable, element);\n",
              "          const docLink = document.createElement('div');\n",
              "          docLink.innerHTML = docLinkHtml;\n",
              "          element.appendChild(docLink);\n",
              "        }\n",
              "      </script>\n",
              "    </div>\n",
              "  </div>\n",
              "  "
            ]
          },
          "metadata": {},
          "execution_count": 8
        }
      ]
    },
    {
      "cell_type": "markdown",
      "source": [
        "**READ DATASET**\n",
        "- company: nama restoran pizza\n",
        "- price_rupiah: harga pizza\n",
        "- diameter: ukuran diameter dari pizza dalam satuan inch\n",
        "- topping: berbagai macam jenis topping pizza\n",
        "- variant: berbagai variasi pizza\n",
        "- size: berbagai macam ukuran pizza\n",
        "- extra_sauce: tambahan extra saus pada pizza (ya / tidak)\n",
        "- extra_cheese: tambahan extra keju pada pizza (ya / tidak)\n",
        "- extra_mushrooms: tambahan extra jamur pada pizza (ya / tidak)\n"
      ],
      "metadata": {
        "id": "tKshzTFLjMnf"
      }
    },
    {
      "cell_type": "markdown",
      "metadata": {
        "id": "3x-LOB34Ix2n"
      },
      "source": [
        "### PROBLEM STATEMENT"
      ]
    },
    {
      "cell_type": "markdown",
      "source": [
        "1. Berapa banyak jumlah company yang ada dari data pizza?\n",
        "2. Berapa harga tertingi dan terendah dari data pizza?\n",
        "3. Berapa diameter terbesar dan terkecil dari data pizza?\n",
        "4. Berapa banyak jenis topping dari data pizza?\n",
        "5. Berapa banyak jenis variant dari data pizza?\n",
        "6. Berapa macam jenis ukuran dari data pizza?\n",
        "7. Berapa banyak rasio perbandingan antara yang menggunakan & tidak menggunakan extra sauce?\n",
        "8. Berapa banyak rasio perbandingan antara yang menggunakan & tidak menggunakan extra cheese?\n",
        "9. Berapa banyak rasio perbandingan antara yang menggunakan & tidak menggunakan extra mushroom?"
      ],
      "metadata": {
        "id": "8Vk0qCV4hJti"
      }
    },
    {
      "cell_type": "code",
      "metadata": {
        "id": "0fHaO2OeJENe",
        "colab": {
          "base_uri": "https://localhost:8080/"
        },
        "outputId": "f2998104-f4ae-461c-ddf5-59facbedc992"
      },
      "source": [
        "df.info()"
      ],
      "execution_count": 9,
      "outputs": [
        {
          "output_type": "stream",
          "name": "stdout",
          "text": [
            "<class 'pandas.core.frame.DataFrame'>\n",
            "RangeIndex: 129 entries, 0 to 128\n",
            "Data columns (total 9 columns):\n",
            " #   Column           Non-Null Count  Dtype \n",
            "---  ------           --------------  ----- \n",
            " 0   company          129 non-null    object\n",
            " 1   price_rupiah     129 non-null    object\n",
            " 2   diameter         129 non-null    object\n",
            " 3   topping          129 non-null    object\n",
            " 4   variant          129 non-null    object\n",
            " 5   size             129 non-null    object\n",
            " 6   extra_sauce      129 non-null    object\n",
            " 7   extra_cheese     129 non-null    object\n",
            " 8   extra_mushrooms  129 non-null    object\n",
            "dtypes: object(9)\n",
            "memory usage: 9.2+ KB\n"
          ]
        }
      ]
    },
    {
      "cell_type": "markdown",
      "source": [
        "###Pre-EDA Feature Engineering"
      ],
      "metadata": {
        "id": "1ZjJDq6J9eQN"
      }
    },
    {
      "cell_type": "code",
      "source": [
        "df['price_rupiah'] = df['price_rupiah'].replace({'Rp': ''}, regex=True)\n",
        "df['price_rupiah'] = df['price_rupiah'].replace({',000': '000'}, regex=True)\n",
        "df['price_rupiah'] = df['price_rupiah'].replace({',500': '500'}, regex=True)\n",
        "df['diameter'] = df['diameter'].replace({' inch': ''}, regex=True)"
      ],
      "metadata": {
        "id": "bBYv4BFT9mX1"
      },
      "execution_count": 10,
      "outputs": []
    },
    {
      "cell_type": "code",
      "source": [
        "df.head()"
      ],
      "metadata": {
        "colab": {
          "base_uri": "https://localhost:8080/",
          "height": 206
        },
        "id": "su-aITAXH78T",
        "outputId": "9b445b64-b190-413e-ddf7-9005edcd8a76"
      },
      "execution_count": 11,
      "outputs": [
        {
          "output_type": "execute_result",
          "data": {
            "text/plain": [
              "  company price_rupiah diameter      topping           variant     size  \\\n",
              "0       A       235000       22      chicken  double_signature    jumbo   \n",
              "1       A       198000       20    papperoni  double_signature    jumbo   \n",
              "2       A       120000       16    mushrooms  double_signature  reguler   \n",
              "3       A       155000       14  smoked_beef  double_signature  reguler   \n",
              "4       A       248000       18   mozzarella  double_signature    jumbo   \n",
              "\n",
              "  extra_sauce extra_cheese extra_mushrooms  \n",
              "0         yes          yes              no  \n",
              "1         yes          yes              no  \n",
              "2         yes          yes             yes  \n",
              "3         yes           no             yes  \n",
              "4         yes           no             yes  "
            ],
            "text/html": [
              "\n",
              "  <div id=\"df-c0ac25cd-c862-409a-8176-408653dde87c\">\n",
              "    <div class=\"colab-df-container\">\n",
              "      <div>\n",
              "<style scoped>\n",
              "    .dataframe tbody tr th:only-of-type {\n",
              "        vertical-align: middle;\n",
              "    }\n",
              "\n",
              "    .dataframe tbody tr th {\n",
              "        vertical-align: top;\n",
              "    }\n",
              "\n",
              "    .dataframe thead th {\n",
              "        text-align: right;\n",
              "    }\n",
              "</style>\n",
              "<table border=\"1\" class=\"dataframe\">\n",
              "  <thead>\n",
              "    <tr style=\"text-align: right;\">\n",
              "      <th></th>\n",
              "      <th>company</th>\n",
              "      <th>price_rupiah</th>\n",
              "      <th>diameter</th>\n",
              "      <th>topping</th>\n",
              "      <th>variant</th>\n",
              "      <th>size</th>\n",
              "      <th>extra_sauce</th>\n",
              "      <th>extra_cheese</th>\n",
              "      <th>extra_mushrooms</th>\n",
              "    </tr>\n",
              "  </thead>\n",
              "  <tbody>\n",
              "    <tr>\n",
              "      <th>0</th>\n",
              "      <td>A</td>\n",
              "      <td>235000</td>\n",
              "      <td>22</td>\n",
              "      <td>chicken</td>\n",
              "      <td>double_signature</td>\n",
              "      <td>jumbo</td>\n",
              "      <td>yes</td>\n",
              "      <td>yes</td>\n",
              "      <td>no</td>\n",
              "    </tr>\n",
              "    <tr>\n",
              "      <th>1</th>\n",
              "      <td>A</td>\n",
              "      <td>198000</td>\n",
              "      <td>20</td>\n",
              "      <td>papperoni</td>\n",
              "      <td>double_signature</td>\n",
              "      <td>jumbo</td>\n",
              "      <td>yes</td>\n",
              "      <td>yes</td>\n",
              "      <td>no</td>\n",
              "    </tr>\n",
              "    <tr>\n",
              "      <th>2</th>\n",
              "      <td>A</td>\n",
              "      <td>120000</td>\n",
              "      <td>16</td>\n",
              "      <td>mushrooms</td>\n",
              "      <td>double_signature</td>\n",
              "      <td>reguler</td>\n",
              "      <td>yes</td>\n",
              "      <td>yes</td>\n",
              "      <td>yes</td>\n",
              "    </tr>\n",
              "    <tr>\n",
              "      <th>3</th>\n",
              "      <td>A</td>\n",
              "      <td>155000</td>\n",
              "      <td>14</td>\n",
              "      <td>smoked_beef</td>\n",
              "      <td>double_signature</td>\n",
              "      <td>reguler</td>\n",
              "      <td>yes</td>\n",
              "      <td>no</td>\n",
              "      <td>yes</td>\n",
              "    </tr>\n",
              "    <tr>\n",
              "      <th>4</th>\n",
              "      <td>A</td>\n",
              "      <td>248000</td>\n",
              "      <td>18</td>\n",
              "      <td>mozzarella</td>\n",
              "      <td>double_signature</td>\n",
              "      <td>jumbo</td>\n",
              "      <td>yes</td>\n",
              "      <td>no</td>\n",
              "      <td>yes</td>\n",
              "    </tr>\n",
              "  </tbody>\n",
              "</table>\n",
              "</div>\n",
              "      <button class=\"colab-df-convert\" onclick=\"convertToInteractive('df-c0ac25cd-c862-409a-8176-408653dde87c')\"\n",
              "              title=\"Convert this dataframe to an interactive table.\"\n",
              "              style=\"display:none;\">\n",
              "        \n",
              "  <svg xmlns=\"http://www.w3.org/2000/svg\" height=\"24px\"viewBox=\"0 0 24 24\"\n",
              "       width=\"24px\">\n",
              "    <path d=\"M0 0h24v24H0V0z\" fill=\"none\"/>\n",
              "    <path d=\"M18.56 5.44l.94 2.06.94-2.06 2.06-.94-2.06-.94-.94-2.06-.94 2.06-2.06.94zm-11 1L8.5 8.5l.94-2.06 2.06-.94-2.06-.94L8.5 2.5l-.94 2.06-2.06.94zm10 10l.94 2.06.94-2.06 2.06-.94-2.06-.94-.94-2.06-.94 2.06-2.06.94z\"/><path d=\"M17.41 7.96l-1.37-1.37c-.4-.4-.92-.59-1.43-.59-.52 0-1.04.2-1.43.59L10.3 9.45l-7.72 7.72c-.78.78-.78 2.05 0 2.83L4 21.41c.39.39.9.59 1.41.59.51 0 1.02-.2 1.41-.59l7.78-7.78 2.81-2.81c.8-.78.8-2.07 0-2.86zM5.41 20L4 18.59l7.72-7.72 1.47 1.35L5.41 20z\"/>\n",
              "  </svg>\n",
              "      </button>\n",
              "      \n",
              "  <style>\n",
              "    .colab-df-container {\n",
              "      display:flex;\n",
              "      flex-wrap:wrap;\n",
              "      gap: 12px;\n",
              "    }\n",
              "\n",
              "    .colab-df-convert {\n",
              "      background-color: #E8F0FE;\n",
              "      border: none;\n",
              "      border-radius: 50%;\n",
              "      cursor: pointer;\n",
              "      display: none;\n",
              "      fill: #1967D2;\n",
              "      height: 32px;\n",
              "      padding: 0 0 0 0;\n",
              "      width: 32px;\n",
              "    }\n",
              "\n",
              "    .colab-df-convert:hover {\n",
              "      background-color: #E2EBFA;\n",
              "      box-shadow: 0px 1px 2px rgba(60, 64, 67, 0.3), 0px 1px 3px 1px rgba(60, 64, 67, 0.15);\n",
              "      fill: #174EA6;\n",
              "    }\n",
              "\n",
              "    [theme=dark] .colab-df-convert {\n",
              "      background-color: #3B4455;\n",
              "      fill: #D2E3FC;\n",
              "    }\n",
              "\n",
              "    [theme=dark] .colab-df-convert:hover {\n",
              "      background-color: #434B5C;\n",
              "      box-shadow: 0px 1px 3px 1px rgba(0, 0, 0, 0.15);\n",
              "      filter: drop-shadow(0px 1px 2px rgba(0, 0, 0, 0.3));\n",
              "      fill: #FFFFFF;\n",
              "    }\n",
              "  </style>\n",
              "\n",
              "      <script>\n",
              "        const buttonEl =\n",
              "          document.querySelector('#df-c0ac25cd-c862-409a-8176-408653dde87c button.colab-df-convert');\n",
              "        buttonEl.style.display =\n",
              "          google.colab.kernel.accessAllowed ? 'block' : 'none';\n",
              "\n",
              "        async function convertToInteractive(key) {\n",
              "          const element = document.querySelector('#df-c0ac25cd-c862-409a-8176-408653dde87c');\n",
              "          const dataTable =\n",
              "            await google.colab.kernel.invokeFunction('convertToInteractive',\n",
              "                                                     [key], {});\n",
              "          if (!dataTable) return;\n",
              "\n",
              "          const docLinkHtml = 'Like what you see? Visit the ' +\n",
              "            '<a target=\"_blank\" href=https://colab.research.google.com/notebooks/data_table.ipynb>data table notebook</a>'\n",
              "            + ' to learn more about interactive tables.';\n",
              "          element.innerHTML = '';\n",
              "          dataTable['output_type'] = 'display_data';\n",
              "          await google.colab.output.renderOutput(dataTable, element);\n",
              "          const docLink = document.createElement('div');\n",
              "          docLink.innerHTML = docLinkHtml;\n",
              "          element.appendChild(docLink);\n",
              "        }\n",
              "      </script>\n",
              "    </div>\n",
              "  </div>\n",
              "  "
            ]
          },
          "metadata": {},
          "execution_count": 11
        }
      ]
    },
    {
      "cell_type": "code",
      "source": [
        "df['price_rupiah'] = pd.to_numeric(df['price_rupiah'])\n",
        "df['diameter'] = pd.to_numeric(df['diameter'])"
      ],
      "metadata": {
        "id": "2QXf8CNJLETZ"
      },
      "execution_count": 12,
      "outputs": []
    },
    {
      "cell_type": "code",
      "source": [
        "df.info()"
      ],
      "metadata": {
        "colab": {
          "base_uri": "https://localhost:8080/"
        },
        "id": "Hsb4R9dfMAll",
        "outputId": "d7afd33b-5600-48e6-eda3-8dfe082b70ad"
      },
      "execution_count": 13,
      "outputs": [
        {
          "output_type": "stream",
          "name": "stdout",
          "text": [
            "<class 'pandas.core.frame.DataFrame'>\n",
            "RangeIndex: 129 entries, 0 to 128\n",
            "Data columns (total 9 columns):\n",
            " #   Column           Non-Null Count  Dtype  \n",
            "---  ------           --------------  -----  \n",
            " 0   company          129 non-null    object \n",
            " 1   price_rupiah     129 non-null    int64  \n",
            " 2   diameter         129 non-null    float64\n",
            " 3   topping          129 non-null    object \n",
            " 4   variant          129 non-null    object \n",
            " 5   size             129 non-null    object \n",
            " 6   extra_sauce      129 non-null    object \n",
            " 7   extra_cheese     129 non-null    object \n",
            " 8   extra_mushrooms  129 non-null    object \n",
            "dtypes: float64(1), int64(1), object(7)\n",
            "memory usage: 9.2+ KB\n"
          ]
        }
      ]
    },
    {
      "cell_type": "markdown",
      "metadata": {
        "id": "3GbDILgN0fNT"
      },
      "source": [
        "### EDA"
      ]
    },
    {
      "cell_type": "markdown",
      "source": [
        "####1. Jumlah Company\n",
        "Berapa banyak jumlah company yang ada dari data pizza?"
      ],
      "metadata": {
        "id": "lOo9JEicl3lJ"
      }
    },
    {
      "cell_type": "code",
      "metadata": {
        "id": "Q0IGqrnq0Uvx",
        "colab": {
          "base_uri": "https://localhost:8080/"
        },
        "outputId": "19e889e0-6a3d-490c-f2af-bae36a867015"
      },
      "source": [
        "df['company'].nunique()"
      ],
      "execution_count": 14,
      "outputs": [
        {
          "output_type": "execute_result",
          "data": {
            "text/plain": [
              "5"
            ]
          },
          "metadata": {},
          "execution_count": 14
        }
      ]
    },
    {
      "cell_type": "code",
      "source": [
        "co = df['company'].value_counts()\n",
        "dco = pd.DataFrame({'company':co.index, 'values':co.values})\n",
        "sdco = dco.sort_values(by='values', ascending=False)\n",
        "\n",
        "plt.figure(figsize=(10,6))\n",
        "sns.barplot(x=sdco['values'], y=sdco['company'])\n",
        "plt.xlabel(\"Values\")\n",
        "plt.ylabel(\"Company\")\n",
        "plt.title(\"Distribusi Values dari per Company\");"
      ],
      "metadata": {
        "colab": {
          "base_uri": "https://localhost:8080/",
          "height": 404
        },
        "id": "T17Si5PENUnC",
        "outputId": "3a2c7223-bc14-4e1e-cd1f-56d8d745a7a3"
      },
      "execution_count": 15,
      "outputs": [
        {
          "output_type": "display_data",
          "data": {
            "text/plain": [
              "<Figure size 720x432 with 1 Axes>"
            ],
            "image/png": "[encoded data removed]"
          },
          "metadata": {
            "needs_background": "light"
          }
        }
      ]
    },
    {
      "cell_type": "markdown",
      "source": [
        "<u> **Hasil** </u>:\n",
        "<br>Jumlah company yang ada pada data menu pizza yakni sebanyak 5 company: A, B, C, D, & E. Dimana secara distribusi company C & E menempati posisi teratas untuk menu pizza yakni sebesar 30 menu. <br> Sedangkan untuk company D menjadi company terendah untuk menu pizza yakni hanya sebesar 20 menu."
      ],
      "metadata": {
        "id": "BMbGY3hOCYBU"
      }
    },
    {
      "cell_type": "markdown",
      "source": [
        "####2. Harga pizza\n",
        "Berapa harga tertinggi dan terendah dari data pizza?"
      ],
      "metadata": {
        "id": "TJw4pGn8l-yb"
      }
    },
    {
      "cell_type": "code",
      "source": [
        "H = df['price_rupiah'].value_counts()\n",
        "pd.DataFrame({'harga':H.index, 'values':H.values})"
      ],
      "metadata": {
        "colab": {
          "base_uri": "https://localhost:8080/",
          "height": 1000
        },
        "id": "0DMZQ7VSRywN",
        "outputId": "826d4e3d-6364-4f2b-c4f7-a7f668950b2d"
      },
      "execution_count": 16,
      "outputs": [
        {
          "output_type": "execute_result",
          "data": {
            "text/plain": [
              "     harga  values\n",
              "0    72000      11\n",
              "1    90000       8\n",
              "2    46000       7\n",
              "3    96000       5\n",
              "4    83000       5\n",
              "5    49000       5\n",
              "6    75000       5\n",
              "7    70000       4\n",
              "8   110000       4\n",
              "9    99000       4\n",
              "10   39000       4\n",
              "11  149000       4\n",
              "12  140000       4\n",
              "13   69000       3\n",
              "14  115000       3\n",
              "15   78000       3\n",
              "16   35000       3\n",
              "17   60000       3\n",
              "18   44000       3\n",
              "19   93000       3\n",
              "20   31000       3\n",
              "21   23500       3\n",
              "22   98000       3\n",
              "23  123000       2\n",
              "24   33000       2\n",
              "25   76000       2\n",
              "26  119000       2\n",
              "27  114000       2\n",
              "28  188000       2\n",
              "29  230000       2\n",
              "30  105000       2\n",
              "31  126500       2\n",
              "32   28000       1\n",
              "33   51000       1\n",
              "34   84000       1\n",
              "35   32000       1\n",
              "36   54000       1\n",
              "37  235000       1\n",
              "38  198000       1\n",
              "39  248000       1\n",
              "40  155000       1\n",
              "41  120000       1\n",
              "42   92000       1"
            ],
            "text/html": [
              "\n",
              "  <div id=\"df-c1db0971-39a4-4deb-91c4-6a986166abf0\">\n",
              "    <div class=\"colab-df-container\">\n",
              "      <div>\n",
              "<style scoped>\n",
              "    .dataframe tbody tr th:only-of-type {\n",
              "        vertical-align: middle;\n",
              "    }\n",
              "\n",
              "    .dataframe tbody tr th {\n",
              "        vertical-align: top;\n",
              "    }\n",
              "\n",
              "    .dataframe thead th {\n",
              "        text-align: right;\n",
              "    }\n",
              "</style>\n",
              "<table border=\"1\" class=\"dataframe\">\n",
              "  <thead>\n",
              "    <tr style=\"text-align: right;\">\n",
              "      <th></th>\n",
              "      <th>harga</th>\n",
              "      <th>values</th>\n",
              "    </tr>\n",
              "  </thead>\n",
              "  <tbody>\n",
              "    <tr>\n",
              "      <th>0</th>\n",
              "      <td>72000</td>\n",
              "      <td>11</td>\n",
              "    </tr>\n",
              "    <tr>\n",
              "      <th>1</th>\n",
              "      <td>90000</td>\n",
              "      <td>8</td>\n",
              "    </tr>\n",
              "    <tr>\n",
              "      <th>2</th>\n",
              "      <td>46000</td>\n",
              "      <td>7</td>\n",
              "    </tr>\n",
              "    <tr>\n",
              "      <th>3</th>\n",
              "      <td>96000</td>\n",
              "      <td>5</td>\n",
              "    </tr>\n",
              "    <tr>\n",
              "      <th>4</th>\n",
              "      <td>83000</td>\n",
              "      <td>5</td>\n",
              "    </tr>\n",
              "    <tr>\n",
              "      <th>5</th>\n",
              "      <td>49000</td>\n",
              "      <td>5</td>\n",
              "    </tr>\n",
              "    <tr>\n",
              "      <th>6</th>\n",
              "      <td>75000</td>\n",
              "      <td>5</td>\n",
              "    </tr>\n",
              "    <tr>\n",
              "      <th>7</th>\n",
              "      <td>70000</td>\n",
              "      <td>4</td>\n",
              "    </tr>\n",
              "    <tr>\n",
              "      <th>8</th>\n",
              "      <td>110000</td>\n",
              "      <td>4</td>\n",
              "    </tr>\n",
              "    <tr>\n",
              "      <th>9</th>\n",
              "      <td>99000</td>\n",
              "      <td>4</td>\n",
              "    </tr>\n",
              "    <tr>\n",
              "      <th>10</th>\n",
              "      <td>39000</td>\n",
              "      <td>4</td>\n",
              "    </tr>\n",
              "    <tr>\n",
              "      <th>11</th>\n",
              "      <td>149000</td>\n",
              "      <td>4</td>\n",
              "    </tr>\n",
              "    <tr>\n",
              "      <th>12</th>\n",
              "      <td>140000</td>\n",
              "      <td>4</td>\n",
              "    </tr>\n",
              "    <tr>\n",
              "      <th>13</th>\n",
              "      <td>69000</td>\n",
              "      <td>3</td>\n",
              "    </tr>\n",
              "    <tr>\n",
              "      <th>14</th>\n",
              "      <td>115000</td>\n",
              "      <td>3</td>\n",
              "    </tr>\n",
              "    <tr>\n",
              "      <th>15</th>\n",
              "      <td>78000</td>\n",
              "      <td>3</td>\n",
              "    </tr>\n",
              "    <tr>\n",
              "      <th>16</th>\n",
              "      <td>35000</td>\n",
              "      <td>3</td>\n",
              "    </tr>\n",
              "    <tr>\n",
              "      <th>17</th>\n",
              "      <td>60000</td>\n",
              "      <td>3</td>\n",
              "    </tr>\n",
              "    <tr>\n",
              "      <th>18</th>\n",
              "      <td>44000</td>\n",
              "      <td>3</td>\n",
              "    </tr>\n",
              "    <tr>\n",
              "      <th>19</th>\n",
              "      <td>93000</td>\n",
              "      <td>3</td>\n",
              "    </tr>\n",
              "    <tr>\n",
              "      <th>20</th>\n",
              "      <td>31000</td>\n",
              "      <td>3</td>\n",
              "    </tr>\n",
              "    <tr>\n",
              "      <th>21</th>\n",
              "      <td>23500</td>\n",
              "      <td>3</td>\n",
              "    </tr>\n",
              "    <tr>\n",
              "      <th>22</th>\n",
              "      <td>98000</td>\n",
              "      <td>3</td>\n",
              "    </tr>\n",
              "    <tr>\n",
              "      <th>23</th>\n",
              "      <td>123000</td>\n",
              "      <td>2</td>\n",
              "    </tr>\n",
              "    <tr>\n",
              "      <th>24</th>\n",
              "      <td>33000</td>\n",
              "      <td>2</td>\n",
              "    </tr>\n",
              "    <tr>\n",
              "      <th>25</th>\n",
              "      <td>76000</td>\n",
              "      <td>2</td>\n",
              "    </tr>\n",
              "    <tr>\n",
              "      <th>26</th>\n",
              "      <td>119000</td>\n",
              "      <td>2</td>\n",
              "    </tr>\n",
              "    <tr>\n",
              "      <th>27</th>\n",
              "      <td>114000</td>\n",
              "      <td>2</td>\n",
              "    </tr>\n",
              "    <tr>\n",
              "      <th>28</th>\n",
              "      <td>188000</td>\n",
              "      <td>2</td>\n",
              "    </tr>\n",
              "    <tr>\n",
              "      <th>29</th>\n",
              "      <td>230000</td>\n",
              "      <td>2</td>\n",
              "    </tr>\n",
              "    <tr>\n",
              "      <th>30</th>\n",
              "      <td>105000</td>\n",
              "      <td>2</td>\n",
              "    </tr>\n",
              "    <tr>\n",
              "      <th>31</th>\n",
              "      <td>126500</td>\n",
              "      <td>2</td>\n",
              "    </tr>\n",
              "    <tr>\n",
              "      <th>32</th>\n",
              "      <td>28000</td>\n",
              "      <td>1</td>\n",
              "    </tr>\n",
              "    <tr>\n",
              "      <th>33</th>\n",
              "      <td>51000</td>\n",
              "      <td>1</td>\n",
              "    </tr>\n",
              "    <tr>\n",
              "      <th>34</th>\n",
              "      <td>84000</td>\n",
              "      <td>1</td>\n",
              "    </tr>\n",
              "    <tr>\n",
              "      <th>35</th>\n",
              "      <td>32000</td>\n",
              "      <td>1</td>\n",
              "    </tr>\n",
              "    <tr>\n",
              "      <th>36</th>\n",
              "      <td>54000</td>\n",
              "      <td>1</td>\n",
              "    </tr>\n",
              "    <tr>\n",
              "      <th>37</th>\n",
              "      <td>235000</td>\n",
              "      <td>1</td>\n",
              "    </tr>\n",
              "    <tr>\n",
              "      <th>38</th>\n",
              "      <td>198000</td>\n",
              "      <td>1</td>\n",
              "    </tr>\n",
              "    <tr>\n",
              "      <th>39</th>\n",
              "      <td>248000</td>\n",
              "      <td>1</td>\n",
              "    </tr>\n",
              "    <tr>\n",
              "      <th>40</th>\n",
              "      <td>155000</td>\n",
              "      <td>1</td>\n",
              "    </tr>\n",
              "    <tr>\n",
              "      <th>41</th>\n",
              "      <td>120000</td>\n",
              "      <td>1</td>\n",
              "    </tr>\n",
              "    <tr>\n",
              "      <th>42</th>\n",
              "      <td>92000</td>\n",
              "      <td>1</td>\n",
              "    </tr>\n",
              "  </tbody>\n",
              "</table>\n",
              "</div>\n",
              "      <button class=\"colab-df-convert\" onclick=\"convertToInteractive('df-c1db0971-39a4-4deb-91c4-6a986166abf0')\"\n",
              "              title=\"Convert this dataframe to an interactive table.\"\n",
              "              style=\"display:none;\">\n",
              "        \n",
              "  <svg xmlns=\"http://www.w3.org/2000/svg\" height=\"24px\"viewBox=\"0 0 24 24\"\n",
              "       width=\"24px\">\n",
              "    <path d=\"M0 0h24v24H0V0z\" fill=\"none\"/>\n",
              "    <path d=\"M18.56 5.44l.94 2.06.94-2.06 2.06-.94-2.06-.94-.94-2.06-.94 2.06-2.06.94zm-11 1L8.5 8.5l.94-2.06 2.06-.94-2.06-.94L8.5 2.5l-.94 2.06-2.06.94zm10 10l.94 2.06.94-2.06 2.06-.94-2.06-.94-.94-2.06-.94 2.06-2.06.94z\"/><path d=\"M17.41 7.96l-1.37-1.37c-.4-.4-.92-.59-1.43-.59-.52 0-1.04.2-1.43.59L10.3 9.45l-7.72 7.72c-.78.78-.78 2.05 0 2.83L4 21.41c.39.39.9.59 1.41.59.51 0 1.02-.2 1.41-.59l7.78-7.78 2.81-2.81c.8-.78.8-2.07 0-2.86zM5.41 20L4 18.59l7.72-7.72 1.47 1.35L5.41 20z\"/>\n",
              "  </svg>\n",
              "      </button>\n",
              "      \n",
              "  <style>\n",
              "    .colab-df-container {\n",
              "      display:flex;\n",
              "      flex-wrap:wrap;\n",
              "      gap: 12px;\n",
              "    }\n",
              "\n",
              "    .colab-df-convert {\n",
              "      background-color: #E8F0FE;\n",
              "      border: none;\n",
              "      border-radius: 50%;\n",
              "      cursor: pointer;\n",
              "      display: none;\n",
              "      fill: #1967D2;\n",
              "      height: 32px;\n",
              "      padding: 0 0 0 0;\n",
              "      width: 32px;\n",
              "    }\n",
              "\n",
              "    .colab-df-convert:hover {\n",
              "      background-color: #E2EBFA;\n",
              "      box-shadow: 0px 1px 2px rgba(60, 64, 67, 0.3), 0px 1px 3px 1px rgba(60, 64, 67, 0.15);\n",
              "      fill: #174EA6;\n",
              "    }\n",
              "\n",
              "    [theme=dark] .colab-df-convert {\n",
              "      background-color: #3B4455;\n",
              "      fill: #D2E3FC;\n",
              "    }\n",
              "\n",
              "    [theme=dark] .colab-df-convert:hover {\n",
              "      background-color: #434B5C;\n",
              "      box-shadow: 0px 1px 3px 1px rgba(0, 0, 0, 0.15);\n",
              "      filter: drop-shadow(0px 1px 2px rgba(0, 0, 0, 0.3));\n",
              "      fill: #FFFFFF;\n",
              "    }\n",
              "  </style>\n",
              "\n",
              "      <script>\n",
              "        const buttonEl =\n",
              "          document.querySelector('#df-c1db0971-39a4-4deb-91c4-6a986166abf0 button.colab-df-convert');\n",
              "        buttonEl.style.display =\n",
              "          google.colab.kernel.accessAllowed ? 'block' : 'none';\n",
              "\n",
              "        async function convertToInteractive(key) {\n",
              "          const element = document.querySelector('#df-c1db0971-39a4-4deb-91c4-6a986166abf0');\n",
              "          const dataTable =\n",
              "            await google.colab.kernel.invokeFunction('convertToInteractive',\n",
              "                                                     [key], {});\n",
              "          if (!dataTable) return;\n",
              "\n",
              "          const docLinkHtml = 'Like what you see? Visit the ' +\n",
              "            '<a target=\"_blank\" href=https://colab.research.google.com/notebooks/data_table.ipynb>data table notebook</a>'\n",
              "            + ' to learn more about interactive tables.';\n",
              "          element.innerHTML = '';\n",
              "          dataTable['output_type'] = 'display_data';\n",
              "          await google.colab.output.renderOutput(dataTable, element);\n",
              "          const docLink = document.createElement('div');\n",
              "          docLink.innerHTML = docLinkHtml;\n",
              "          element.appendChild(docLink);\n",
              "        }\n",
              "      </script>\n",
              "    </div>\n",
              "  </div>\n",
              "  "
            ]
          },
          "metadata": {},
          "execution_count": 16
        }
      ]
    },
    {
      "cell_type": "code",
      "source": [
        "Hmax = df['price_rupiah'].max()\n",
        "Hmin = df['price_rupiah'].min()\n",
        "Hprice = [df['price_rupiah'].max(), df['price_rupiah'].min()]\n",
        "Hlabel = ['Harga Max', 'Harga Min']\n",
        "Hdf = pd.DataFrame({'Label':Hlabel, 'Harga':Hprice})"
      ],
      "metadata": {
        "id": "qMwm2Jmpl_ve"
      },
      "execution_count": 17,
      "outputs": []
    },
    {
      "cell_type": "code",
      "source": [
        "plt.figure(figsize=(10,6))\n",
        "Hbp = sns.barplot(x=Hdf['Label'], y=Hdf['Harga'])\n",
        "Hbp.bar_label(Hbp.containers[0])\n",
        "plt.xlabel(\"Keterangan\")\n",
        "plt.ylabel(\"Harga\")\n",
        "plt.title(\"Harga Maximum vs Harga Minimum\");"
      ],
      "metadata": {
        "colab": {
          "base_uri": "https://localhost:8080/",
          "height": 404
        },
        "id": "hwtH--12wLhP",
        "outputId": "8a8706de-8abf-4c0f-9b66-2fec8b6455c8"
      },
      "execution_count": 18,
      "outputs": [
        {
          "output_type": "display_data",
          "data": {
            "text/plain": [
              "<Figure size 720x432 with 1 Axes>"
            ],
            "image/png": "[encoded data removed]"
          },
          "metadata": {
            "needs_background": "light"
          }
        }
      ]
    },
    {
      "cell_type": "markdown",
      "source": [
        "<u> **Hasil** </u>:\n",
        "<br> Terdapat 43 macam harga pizza pada data yakni dari range antara Rp23500 sebagai harga minimum hingga Rp248000 sebagai harga maximum."
      ],
      "metadata": {
        "id": "YnlYXwL2LnDg"
      }
    },
    {
      "cell_type": "markdown",
      "source": [
        "####3. Diameter pizza\n",
        "Berapa diameter terbesar dan terkecil dari data pizza?\n",
        "\n"
      ],
      "metadata": {
        "id": "T4XRRna8mBhR"
      }
    },
    {
      "cell_type": "code",
      "source": [
        "D = df['diameter'].value_counts()\n",
        "pd.DataFrame({'diameter':D.index, 'values':D.values})"
      ],
      "metadata": {
        "colab": {
          "base_uri": "https://localhost:8080/",
          "height": 394
        },
        "id": "m-NsGWtZi7bx",
        "outputId": "d8ecc9f2-c62f-4602-820e-47c777db026d"
      },
      "execution_count": 19,
      "outputs": [
        {
          "output_type": "execute_result",
          "data": {
            "text/plain": [
              "    diameter  values\n",
              "0       12.0      49\n",
              "1       14.0      24\n",
              "2        8.5      22\n",
              "3       17.0      10\n",
              "4       18.5       6\n",
              "5       16.0       5\n",
              "6        8.0       4\n",
              "7       16.5       4\n",
              "8       22.0       3\n",
              "9       20.0       1\n",
              "10      18.0       1"
            ],
            "text/html": [
              "\n",
              "  <div id=\"df-bfc2d6ef-62ec-4fd3-b303-d2f00adbca99\">\n",
              "    <div class=\"colab-df-container\">\n",
              "      <div>\n",
              "<style scoped>\n",
              "    .dataframe tbody tr th:only-of-type {\n",
              "        vertical-align: middle;\n",
              "    }\n",
              "\n",
              "    .dataframe tbody tr th {\n",
              "        vertical-align: top;\n",
              "    }\n",
              "\n",
              "    .dataframe thead th {\n",
              "        text-align: right;\n",
              "    }\n",
              "</style>\n",
              "<table border=\"1\" class=\"dataframe\">\n",
              "  <thead>\n",
              "    <tr style=\"text-align: right;\">\n",
              "      <th></th>\n",
              "      <th>diameter</th>\n",
              "      <th>values</th>\n",
              "    </tr>\n",
              "  </thead>\n",
              "  <tbody>\n",
              "    <tr>\n",
              "      <th>0</th>\n",
              "      <td>12.0</td>\n",
              "      <td>49</td>\n",
              "    </tr>\n",
              "    <tr>\n",
              "      <th>1</th>\n",
              "      <td>14.0</td>\n",
              "      <td>24</td>\n",
              "    </tr>\n",
              "    <tr>\n",
              "      <th>2</th>\n",
              "      <td>8.5</td>\n",
              "      <td>22</td>\n",
              "    </tr>\n",
              "    <tr>\n",
              "      <th>3</th>\n",
              "      <td>17.0</td>\n",
              "      <td>10</td>\n",
              "    </tr>\n",
              "    <tr>\n",
              "      <th>4</th>\n",
              "      <td>18.5</td>\n",
              "      <td>6</td>\n",
              "    </tr>\n",
              "    <tr>\n",
              "      <th>5</th>\n",
              "      <td>16.0</td>\n",
              "      <td>5</td>\n",
              "    </tr>\n",
              "    <tr>\n",
              "      <th>6</th>\n",
              "      <td>8.0</td>\n",
              "      <td>4</td>\n",
              "    </tr>\n",
              "    <tr>\n",
              "      <th>7</th>\n",
              "      <td>16.5</td>\n",
              "      <td>4</td>\n",
              "    </tr>\n",
              "    <tr>\n",
              "      <th>8</th>\n",
              "      <td>22.0</td>\n",
              "      <td>3</td>\n",
              "    </tr>\n",
              "    <tr>\n",
              "      <th>9</th>\n",
              "      <td>20.0</td>\n",
              "      <td>1</td>\n",
              "    </tr>\n",
              "    <tr>\n",
              "      <th>10</th>\n",
              "      <td>18.0</td>\n",
              "      <td>1</td>\n",
              "    </tr>\n",
              "  </tbody>\n",
              "</table>\n",
              "</div>\n",
              "      <button class=\"colab-df-convert\" onclick=\"convertToInteractive('df-bfc2d6ef-62ec-4fd3-b303-d2f00adbca99')\"\n",
              "              title=\"Convert this dataframe to an interactive table.\"\n",
              "              style=\"display:none;\">\n",
              "        \n",
              "  <svg xmlns=\"http://www.w3.org/2000/svg\" height=\"24px\"viewBox=\"0 0 24 24\"\n",
              "       width=\"24px\">\n",
              "    <path d=\"M0 0h24v24H0V0z\" fill=\"none\"/>\n",
              "    <path d=\"M18.56 5.44l.94 2.06.94-2.06 2.06-.94-2.06-.94-.94-2.06-.94 2.06-2.06.94zm-11 1L8.5 8.5l.94-2.06 2.06-.94-2.06-.94L8.5 2.5l-.94 2.06-2.06.94zm10 10l.94 2.06.94-2.06 2.06-.94-2.06-.94-.94-2.06-.94 2.06-2.06.94z\"/><path d=\"M17.41 7.96l-1.37-1.37c-.4-.4-.92-.59-1.43-.59-.52 0-1.04.2-1.43.59L10.3 9.45l-7.72 7.72c-.78.78-.78 2.05 0 2.83L4 21.41c.39.39.9.59 1.41.59.51 0 1.02-.2 1.41-.59l7.78-7.78 2.81-2.81c.8-.78.8-2.07 0-2.86zM5.41 20L4 18.59l7.72-7.72 1.47 1.35L5.41 20z\"/>\n",
              "  </svg>\n",
              "      </button>\n",
              "      \n",
              "  <style>\n",
              "    .colab-df-container {\n",
              "      display:flex;\n",
              "      flex-wrap:wrap;\n",
              "      gap: 12px;\n",
              "    }\n",
              "\n",
              "    .colab-df-convert {\n",
              "      background-color: #E8F0FE;\n",
              "      border: none;\n",
              "      border-radius: 50%;\n",
              "      cursor: pointer;\n",
              "      display: none;\n",
              "      fill: #1967D2;\n",
              "      height: 32px;\n",
              "      padding: 0 0 0 0;\n",
              "      width: 32px;\n",
              "    }\n",
              "\n",
              "    .colab-df-convert:hover {\n",
              "      background-color: #E2EBFA;\n",
              "      box-shadow: 0px 1px 2px rgba(60, 64, 67, 0.3), 0px 1px 3px 1px rgba(60, 64, 67, 0.15);\n",
              "      fill: #174EA6;\n",
              "    }\n",
              "\n",
              "    [theme=dark] .colab-df-convert {\n",
              "      background-color: #3B4455;\n",
              "      fill: #D2E3FC;\n",
              "    }\n",
              "\n",
              "    [theme=dark] .colab-df-convert:hover {\n",
              "      background-color: #434B5C;\n",
              "      box-shadow: 0px 1px 3px 1px rgba(0, 0, 0, 0.15);\n",
              "      filter: drop-shadow(0px 1px 2px rgba(0, 0, 0, 0.3));\n",
              "      fill: #FFFFFF;\n",
              "    }\n",
              "  </style>\n",
              "\n",
              "      <script>\n",
              "        const buttonEl =\n",
              "          document.querySelector('#df-bfc2d6ef-62ec-4fd3-b303-d2f00adbca99 button.colab-df-convert');\n",
              "        buttonEl.style.display =\n",
              "          google.colab.kernel.accessAllowed ? 'block' : 'none';\n",
              "\n",
              "        async function convertToInteractive(key) {\n",
              "          const element = document.querySelector('#df-bfc2d6ef-62ec-4fd3-b303-d2f00adbca99');\n",
              "          const dataTable =\n",
              "            await google.colab.kernel.invokeFunction('convertToInteractive',\n",
              "                                                     [key], {});\n",
              "          if (!dataTable) return;\n",
              "\n",
              "          const docLinkHtml = 'Like what you see? Visit the ' +\n",
              "            '<a target=\"_blank\" href=https://colab.research.google.com/notebooks/data_table.ipynb>data table notebook</a>'\n",
              "            + ' to learn more about interactive tables.';\n",
              "          element.innerHTML = '';\n",
              "          dataTable['output_type'] = 'display_data';\n",
              "          await google.colab.output.renderOutput(dataTable, element);\n",
              "          const docLink = document.createElement('div');\n",
              "          docLink.innerHTML = docLinkHtml;\n",
              "          element.appendChild(docLink);\n",
              "        }\n",
              "      </script>\n",
              "    </div>\n",
              "  </div>\n",
              "  "
            ]
          },
          "metadata": {},
          "execution_count": 19
        }
      ]
    },
    {
      "cell_type": "code",
      "source": [
        "Dmax = df['diameter'].max()\n",
        "Dmin = df['diameter'].min()\n",
        "Dmt = [df['diameter'].max(), df['diameter'].min()]\n",
        "Dlabel = ['Diameter Max', 'Diameter Min']\n",
        "Dfm = pd.DataFrame({'Label':Dlabel, 'Diameter':Dmt})"
      ],
      "metadata": {
        "id": "bnakf9x7mCEj"
      },
      "execution_count": 20,
      "outputs": []
    },
    {
      "cell_type": "code",
      "source": [
        "plt.figure(figsize=(10,6))\n",
        "Dbp = sns.barplot(x=Dfm['Label'], y=Dfm['Diameter'])\n",
        "Dbp.bar_label(Dbp.containers[0])\n",
        "plt.xlabel(\"Keterangan\")\n",
        "plt.ylabel(\"Besar Diameter\")\n",
        "plt.title(\"Besar Diameter Maximum vs Besar Diameter Minimum\");"
      ],
      "metadata": {
        "colab": {
          "base_uri": "https://localhost:8080/",
          "height": 404
        },
        "id": "nsIX_fXmcr5u",
        "outputId": "c35f774e-2746-4806-8362-53b721013755"
      },
      "execution_count": 21,
      "outputs": [
        {
          "output_type": "display_data",
          "data": {
            "text/plain": [
              "<Figure size 720x432 with 1 Axes>"
            ],
            "image/png": "[encoded data removed]"
          },
          "metadata": {
            "needs_background": "light"
          }
        }
      ]
    },
    {
      "cell_type": "markdown",
      "source": [
        "<u> **Hasil** </u>:\n",
        "<br> Terdapat 11 macam ukuran diameter pizza pada data yakni dari range 8 inch sebagai diameter terkecil hingga 22 inch sebagai diameter terbesar."
      ],
      "metadata": {
        "id": "gZYHpIduMFzh"
      }
    },
    {
      "cell_type": "markdown",
      "source": [
        "####4. Jenis topping pizza\n",
        "Berapa banyak jenis topping dari data pizza?"
      ],
      "metadata": {
        "id": "RwfX2CwLmCvx"
      }
    },
    {
      "cell_type": "code",
      "source": [
        "df['topping'].nunique()"
      ],
      "metadata": {
        "colab": {
          "base_uri": "https://localhost:8080/"
        },
        "id": "72N9SfoFmDMR",
        "outputId": "08ae7f08-0061-437c-c525-3be8bfa9d129"
      },
      "execution_count": 22,
      "outputs": [
        {
          "output_type": "execute_result",
          "data": {
            "text/plain": [
              "12"
            ]
          },
          "metadata": {},
          "execution_count": 22
        }
      ]
    },
    {
      "cell_type": "code",
      "source": [
        "plt.figure(figsize=(20,15))\n",
        "top = df['topping'].value_counts().plot.pie(autopct='%1.1f%%',shadow=True)\n",
        "plt.show()"
      ],
      "metadata": {
        "colab": {
          "base_uri": "https://localhost:8080/",
          "height": 846
        },
        "id": "RuPNkNOFz5LI",
        "outputId": "82d313a3-3d60-4a1c-b2b5-1725a0240528"
      },
      "execution_count": 23,
      "outputs": [
        {
          "output_type": "display_data",
          "data": {
            "text/plain": [
              "<Figure size 1440x1080 with 1 Axes>"
            ],
            "image/png": "[encoded data removed]"
          },
          "metadata": {}
        }
      ]
    },
    {
      "cell_type": "code",
      "source": [
        "T = df['topping'].value_counts()\n",
        "pd.DataFrame({'topping':T.index, 'values':T.values})"
      ],
      "metadata": {
        "colab": {
          "base_uri": "https://localhost:8080/",
          "height": 425
        },
        "id": "a2ZMuLI1lMnl",
        "outputId": "39d9717d-690c-4dc8-d07b-1e34728297f2"
      },
      "execution_count": 24,
      "outputs": [
        {
          "output_type": "execute_result",
          "data": {
            "text/plain": [
              "         topping  values\n",
              "0        chicken      29\n",
              "1      mushrooms      22\n",
              "2     mozzarella      21\n",
              "3    smoked_beef      19\n",
              "4           tuna       9\n",
              "5     vegetables       9\n",
              "6           meat       8\n",
              "7   black_papper       3\n",
              "8        sausage       3\n",
              "9           beef       3\n",
              "10     papperoni       2\n",
              "11         onion       1"
            ],
            "text/html": [
              "\n",
              "  <div id=\"df-4ac90e5c-39d9-4967-be76-d2b1d8ad5228\">\n",
              "    <div class=\"colab-df-container\">\n",
              "      <div>\n",
              "<style scoped>\n",
              "    .dataframe tbody tr th:only-of-type {\n",
              "        vertical-align: middle;\n",
              "    }\n",
              "\n",
              "    .dataframe tbody tr th {\n",
              "        vertical-align: top;\n",
              "    }\n",
              "\n",
              "    .dataframe thead th {\n",
              "        text-align: right;\n",
              "    }\n",
              "</style>\n",
              "<table border=\"1\" class=\"dataframe\">\n",
              "  <thead>\n",
              "    <tr style=\"text-align: right;\">\n",
              "      <th></th>\n",
              "      <th>topping</th>\n",
              "      <th>values</th>\n",
              "    </tr>\n",
              "  </thead>\n",
              "  <tbody>\n",
              "    <tr>\n",
              "      <th>0</th>\n",
              "      <td>chicken</td>\n",
              "      <td>29</td>\n",
              "    </tr>\n",
              "    <tr>\n",
              "      <th>1</th>\n",
              "      <td>mushrooms</td>\n",
              "      <td>22</td>\n",
              "    </tr>\n",
              "    <tr>\n",
              "      <th>2</th>\n",
              "      <td>mozzarella</td>\n",
              "      <td>21</td>\n",
              "    </tr>\n",
              "    <tr>\n",
              "      <th>3</th>\n",
              "      <td>smoked_beef</td>\n",
              "      <td>19</td>\n",
              "    </tr>\n",
              "    <tr>\n",
              "      <th>4</th>\n",
              "      <td>tuna</td>\n",
              "      <td>9</td>\n",
              "    </tr>\n",
              "    <tr>\n",
              "      <th>5</th>\n",
              "      <td>vegetables</td>\n",
              "      <td>9</td>\n",
              "    </tr>\n",
              "    <tr>\n",
              "      <th>6</th>\n",
              "      <td>meat</td>\n",
              "      <td>8</td>\n",
              "    </tr>\n",
              "    <tr>\n",
              "      <th>7</th>\n",
              "      <td>black_papper</td>\n",
              "      <td>3</td>\n",
              "    </tr>\n",
              "    <tr>\n",
              "      <th>8</th>\n",
              "      <td>sausage</td>\n",
              "      <td>3</td>\n",
              "    </tr>\n",
              "    <tr>\n",
              "      <th>9</th>\n",
              "      <td>beef</td>\n",
              "      <td>3</td>\n",
              "    </tr>\n",
              "    <tr>\n",
              "      <th>10</th>\n",
              "      <td>papperoni</td>\n",
              "      <td>2</td>\n",
              "    </tr>\n",
              "    <tr>\n",
              "      <th>11</th>\n",
              "      <td>onion</td>\n",
              "      <td>1</td>\n",
              "    </tr>\n",
              "  </tbody>\n",
              "</table>\n",
              "</div>\n",
              "      <button class=\"colab-df-convert\" onclick=\"convertToInteractive('df-4ac90e5c-39d9-4967-be76-d2b1d8ad5228')\"\n",
              "              title=\"Convert this dataframe to an interactive table.\"\n",
              "              style=\"display:none;\">\n",
              "        \n",
              "  <svg xmlns=\"http://www.w3.org/2000/svg\" height=\"24px\"viewBox=\"0 0 24 24\"\n",
              "       width=\"24px\">\n",
              "    <path d=\"M0 0h24v24H0V0z\" fill=\"none\"/>\n",
              "    <path d=\"M18.56 5.44l.94 2.06.94-2.06 2.06-.94-2.06-.94-.94-2.06-.94 2.06-2.06.94zm-11 1L8.5 8.5l.94-2.06 2.06-.94-2.06-.94L8.5 2.5l-.94 2.06-2.06.94zm10 10l.94 2.06.94-2.06 2.06-.94-2.06-.94-.94-2.06-.94 2.06-2.06.94z\"/><path d=\"M17.41 7.96l-1.37-1.37c-.4-.4-.92-.59-1.43-.59-.52 0-1.04.2-1.43.59L10.3 9.45l-7.72 7.72c-.78.78-.78 2.05 0 2.83L4 21.41c.39.39.9.59 1.41.59.51 0 1.02-.2 1.41-.59l7.78-7.78 2.81-2.81c.8-.78.8-2.07 0-2.86zM5.41 20L4 18.59l7.72-7.72 1.47 1.35L5.41 20z\"/>\n",
              "  </svg>\n",
              "      </button>\n",
              "      \n",
              "  <style>\n",
              "    .colab-df-container {\n",
              "      display:flex;\n",
              "      flex-wrap:wrap;\n",
              "      gap: 12px;\n",
              "    }\n",
              "\n",
              "    .colab-df-convert {\n",
              "      background-color: #E8F0FE;\n",
              "      border: none;\n",
              "      border-radius: 50%;\n",
              "      cursor: pointer;\n",
              "      display: none;\n",
              "      fill: #1967D2;\n",
              "      height: 32px;\n",
              "      padding: 0 0 0 0;\n",
              "      width: 32px;\n",
              "    }\n",
              "\n",
              "    .colab-df-convert:hover {\n",
              "      background-color: #E2EBFA;\n",
              "      box-shadow: 0px 1px 2px rgba(60, 64, 67, 0.3), 0px 1px 3px 1px rgba(60, 64, 67, 0.15);\n",
              "      fill: #174EA6;\n",
              "    }\n",
              "\n",
              "    [theme=dark] .colab-df-convert {\n",
              "      background-color: #3B4455;\n",
              "      fill: #D2E3FC;\n",
              "    }\n",
              "\n",
              "    [theme=dark] .colab-df-convert:hover {\n",
              "      background-color: #434B5C;\n",
              "      box-shadow: 0px 1px 3px 1px rgba(0, 0, 0, 0.15);\n",
              "      filter: drop-shadow(0px 1px 2px rgba(0, 0, 0, 0.3));\n",
              "      fill: #FFFFFF;\n",
              "    }\n",
              "  </style>\n",
              "\n",
              "      <script>\n",
              "        const buttonEl =\n",
              "          document.querySelector('#df-4ac90e5c-39d9-4967-be76-d2b1d8ad5228 button.colab-df-convert');\n",
              "        buttonEl.style.display =\n",
              "          google.colab.kernel.accessAllowed ? 'block' : 'none';\n",
              "\n",
              "        async function convertToInteractive(key) {\n",
              "          const element = document.querySelector('#df-4ac90e5c-39d9-4967-be76-d2b1d8ad5228');\n",
              "          const dataTable =\n",
              "            await google.colab.kernel.invokeFunction('convertToInteractive',\n",
              "                                                     [key], {});\n",
              "          if (!dataTable) return;\n",
              "\n",
              "          const docLinkHtml = 'Like what you see? Visit the ' +\n",
              "            '<a target=\"_blank\" href=https://colab.research.google.com/notebooks/data_table.ipynb>data table notebook</a>'\n",
              "            + ' to learn more about interactive tables.';\n",
              "          element.innerHTML = '';\n",
              "          dataTable['output_type'] = 'display_data';\n",
              "          await google.colab.output.renderOutput(dataTable, element);\n",
              "          const docLink = document.createElement('div');\n",
              "          docLink.innerHTML = docLinkHtml;\n",
              "          element.appendChild(docLink);\n",
              "        }\n",
              "      </script>\n",
              "    </div>\n",
              "  </div>\n",
              "  "
            ]
          },
          "metadata": {},
          "execution_count": 24
        }
      ]
    },
    {
      "cell_type": "markdown",
      "source": [
        "<u> **Hasil** </u>:\n",
        "<br> Terdapat 12 macam topping pizza pada data. Dimana terdapat 4 macam topping terbanyak yakni chicken (22,5% - 29 menu), mushrooms (17,1% - 22 menu), mozzarella (16,3% - 21 menu), & smoked beef (14,7% - 19 menu). Dimana topping onion sebagai jenis topping tersedikit yakni hanya pada 1 menu."
      ],
      "metadata": {
        "id": "PPj0MgOzOI7I"
      }
    },
    {
      "cell_type": "markdown",
      "source": [
        "####5. Jenis variant pizza\n",
        "Berapa banyak jenis variant dari data pizza?"
      ],
      "metadata": {
        "id": "X1EICwtCnJ0G"
      }
    },
    {
      "cell_type": "code",
      "source": [
        "df['variant'].nunique()"
      ],
      "metadata": {
        "colab": {
          "base_uri": "https://localhost:8080/"
        },
        "id": "zyBvDesOnLAn",
        "outputId": "7848d283-7b58-4d6f-bcc0-62cd4c92de38"
      },
      "execution_count": 25,
      "outputs": [
        {
          "output_type": "execute_result",
          "data": {
            "text/plain": [
              "20"
            ]
          },
          "metadata": {},
          "execution_count": 25
        }
      ]
    },
    {
      "cell_type": "code",
      "source": [
        "V = df['variant'].value_counts()\n",
        "var = pd.DataFrame({'variant':V.index, 'values':V.values})\n",
        "svar = var.sort_values(by='values', ascending=False)\n",
        "\n",
        "plt.figure(figsize=(15,10))\n",
        "bpsv = sns.barplot(x=svar['values'], y=svar['variant'], palette='viridis')\n",
        "bpsv.bar_label(bpsv.containers[0])\n",
        "plt.xlabel(\"Values\")\n",
        "plt.ylabel(\"Macam Variant\")\n",
        "plt.title(\"Distribusi Macam Variant Pizza\");"
      ],
      "metadata": {
        "colab": {
          "base_uri": "https://localhost:8080/",
          "height": 621
        },
        "id": "BVE1y_10l5Fx",
        "outputId": "ef5b9901-5b48-41f3-8f35-b6a9cc44ce93"
      },
      "execution_count": 26,
      "outputs": [
        {
          "output_type": "display_data",
          "data": {
            "text/plain": [
              "<Figure size 1080x720 with 1 Axes>"
            ],
            "image/png": "[encoded data removed]"
          },
          "metadata": {
            "needs_background": "light"
          }
        }
      ]
    },
    {
      "cell_type": "markdown",
      "source": [
        "<u> **Hasil** </u>:\n",
        "<br> Terdapat 20 macam variant pizza yang terdapat pada data. Dimana jenis variant classic menjadi variant terbanyak & mendominasi jenis variant yang lainnya yakni sebesar 30 jenis variant pizza classic."
      ],
      "metadata": {
        "id": "iVpXoIGZRaVD"
      }
    },
    {
      "cell_type": "markdown",
      "source": [
        "####6. Jenis ukuran pizza\n",
        "Berapa macam jenis ukuran dari data pizza?"
      ],
      "metadata": {
        "id": "iLHNrxtKnMAR"
      }
    },
    {
      "cell_type": "code",
      "source": [
        "df['size'].nunique()"
      ],
      "metadata": {
        "colab": {
          "base_uri": "https://localhost:8080/"
        },
        "id": "rLRKu1K2nNv2",
        "outputId": "1fd957bd-1fce-4625-d32f-b55111b100c5"
      },
      "execution_count": 27,
      "outputs": [
        {
          "output_type": "execute_result",
          "data": {
            "text/plain": [
              "6"
            ]
          },
          "metadata": {},
          "execution_count": 27
        }
      ]
    },
    {
      "cell_type": "code",
      "source": [
        "S = df['size'].value_counts()\n",
        "si = pd.DataFrame({'size':S.index, 'values':S.values})\n",
        "sortsi = si.sort_values(by='values', ascending=False)\n",
        "\n",
        "plt.figure(figsize=(15,10))\n",
        "bpsi = sns.barplot(x=sortsi['values'], y=sortsi['size'], palette='Spectral')\n",
        "bpsi.bar_label(bpsi.containers[0])\n",
        "plt.xlabel(\"Values\")\n",
        "plt.ylabel(\"Macam Size\")\n",
        "plt.title(\"Distribusi Macam Size Pizza\");"
      ],
      "metadata": {
        "colab": {
          "base_uri": "https://localhost:8080/",
          "height": 621
        },
        "id": "F6UNvgalsTJG",
        "outputId": "b5578a48-9e3e-4812-8047-2898db26975b"
      },
      "execution_count": 28,
      "outputs": [
        {
          "output_type": "display_data",
          "data": {
            "text/plain": [
              "<Figure size 1080x720 with 1 Axes>"
            ],
            "image/png": "[encoded data removed]"
          },
          "metadata": {
            "needs_background": "light"
          }
        }
      ]
    },
    {
      "cell_type": "markdown",
      "source": [
        "<u> **Hasil** </u>:\n",
        "<br> Terdapat 6 macam ukuran pizza yang terdapat pada data. Dimana jenis ukuran medium menjadi ukuran terbanyak yang ada pada pizza, yakni sebesar 41 jenis ukuran pizza medium."
      ],
      "metadata": {
        "id": "HHFbS6eTR02s"
      }
    },
    {
      "cell_type": "markdown",
      "source": [
        "####7. Permintaan extra sauce\n",
        "Berapa banyak rasio perbandingan antara yang menggunakan & tidak menggunakan extra sauce?"
      ],
      "metadata": {
        "id": "NRjaYEXenYT6"
      }
    },
    {
      "cell_type": "code",
      "source": [
        "x1 = df['extra_sauce'].value_counts()\n",
        "exsa = pd.DataFrame({'extra_sauce':x1.index, 'values':x1.values})\n",
        "soxsa = exsa.sort_values(by='values', ascending=False)\n",
        "\n",
        "plt.figure(figsize=(15,10))\n",
        "bpxs = sns.barplot(x=soxsa['values'], y=soxsa['extra_sauce'])\n",
        "bpxs.bar_label(bpxs.containers[0])\n",
        "plt.xlabel(\"Values\")\n",
        "plt.ylabel(\"Permintaan Extra Sauce\")\n",
        "plt.title(\"Distribusi Penggunaan Extra Sauce\");"
      ],
      "metadata": {
        "colab": {
          "base_uri": "https://localhost:8080/",
          "height": 621
        },
        "id": "2U7Lm4J7nZVY",
        "outputId": "4fd98c8d-6686-456c-e961-deac67e2c284"
      },
      "execution_count": 29,
      "outputs": [
        {
          "output_type": "display_data",
          "data": {
            "text/plain": [
              "<Figure size 1080x720 with 1 Axes>"
            ],
            "image/png": "[encoded data removed]"
          },
          "metadata": {
            "needs_background": "light"
          }
        }
      ]
    },
    {
      "cell_type": "markdown",
      "source": [
        "<u> **Hasil** </u>:\n",
        "<br> Lebih banyak pizza yang menggunakan extra sauce dibandingkan dengan yang tidak, yakni terdapat 76 pizza yang memakai extra sauce."
      ],
      "metadata": {
        "id": "SsG6Sd-oSWhe"
      }
    },
    {
      "cell_type": "code",
      "source": [
        ""
      ],
      "metadata": {
        "id": "yphfhetbwWU9"
      },
      "execution_count": 29,
      "outputs": []
    },
    {
      "cell_type": "markdown",
      "source": [
        "####8. Permintaan extra cheese\n",
        "Berapa banyak rasio perbandingan antara yang menggunakan & tidak menggunakan extra cheese?"
      ],
      "metadata": {
        "id": "TwrFUxIinaES"
      }
    },
    {
      "cell_type": "code",
      "source": [
        "x2 = df['extra_cheese'].value_counts()\n",
        "exce = pd.DataFrame({'extra_cheese':x2.index, 'values':x2.values})\n",
        "soxce = exce.sort_values(by='values', ascending=False)\n",
        "\n",
        "plt.figure(figsize=(15,10))\n",
        "bpxc = sns.barplot(x=soxce['values'], y=soxce['extra_cheese'])\n",
        "bpxc.bar_label(bpxc.containers[0])\n",
        "plt.xlabel(\"Values\")\n",
        "plt.ylabel(\"Permintaan Extra Cheese\")\n",
        "plt.title(\"Distribusi Penggunaan Extra Cheese\");"
      ],
      "metadata": {
        "colab": {
          "base_uri": "https://localhost:8080/",
          "height": 621
        },
        "id": "BrnHlbV_nasQ",
        "outputId": "37ee6865-edfd-4066-ad30-10b703c68e64"
      },
      "execution_count": 30,
      "outputs": [
        {
          "output_type": "display_data",
          "data": {
            "text/plain": [
              "<Figure size 1080x720 with 1 Axes>"
            ],
            "image/png": "[encoded data removed]"
          },
          "metadata": {
            "needs_background": "light"
          }
        }
      ]
    },
    {
      "cell_type": "markdown",
      "source": [
        "<u> **Hasil** </u>:\n",
        "<br> Lebih banyak pizza yang menggunakan extra cheese dibandingkan yang tidak, yakni terdapat 86 pizza yang menggunakan extra cheese pada pizza."
      ],
      "metadata": {
        "id": "Qj28VfmoTFNX"
      }
    },
    {
      "cell_type": "code",
      "source": [
        ""
      ],
      "metadata": {
        "id": "lHIsKiha00Ez"
      },
      "execution_count": 30,
      "outputs": []
    },
    {
      "cell_type": "markdown",
      "source": [
        "####9. Permintaan extra mushrooms\n",
        "Berapa banyak rasio perbandingan antara yang menggunakan & tidak menggunakan extra mushroom?"
      ],
      "metadata": {
        "id": "0FQ93ecinbWm"
      }
    },
    {
      "cell_type": "code",
      "source": [
        "x3 = df['extra_mushrooms'].value_counts()\n",
        "exmu = pd.DataFrame({'extra_mushrooms':x3.index, 'values':x3.values})\n",
        "soxmu = exmu.sort_values(by='values', ascending=False)\n",
        "\n",
        "plt.figure(figsize=(15,10))\n",
        "bpxm = sns.barplot(x=soxmu['values'], y=soxmu['extra_mushrooms'])\n",
        "bpxm.bar_label(bpxm.containers[0])\n",
        "plt.xlabel(\"Values\")\n",
        "plt.ylabel(\"Permintaan Extra Mushrooms\")\n",
        "plt.title(\"Distribusi Penggunaan Extra Mushrooms\");"
      ],
      "metadata": {
        "colab": {
          "base_uri": "https://localhost:8080/",
          "height": 621
        },
        "id": "o6yX4vPmncNx",
        "outputId": "399b0930-50ed-4ce3-a9cc-09ff570fc194"
      },
      "execution_count": 31,
      "outputs": [
        {
          "output_type": "display_data",
          "data": {
            "text/plain": [
              "<Figure size 1080x720 with 1 Axes>"
            ],
            "image/png": "[encoded data removed]"
          },
          "metadata": {
            "needs_background": "light"
          }
        }
      ]
    },
    {
      "cell_type": "markdown",
      "source": [
        "<u> **Hasil** </u>:\n",
        "<br> Lebih banyak pizza yang menggunakan extra mushrooms dibandingkan yang tidak, yakni terdapat 72 pizza yang menggunakan extra mushrooms pada pizza."
      ],
      "metadata": {
        "id": "Cqp_VblsTTvk"
      }
    },
    {
      "cell_type": "code",
      "source": [
        ""
      ],
      "metadata": {
        "id": "batHM0B_0zB-"
      },
      "execution_count": 31,
      "outputs": []
    },
    {
      "cell_type": "markdown",
      "metadata": {
        "id": "6u4IAil10RlZ"
      },
      "source": [
        "### DATA PRE-PROCESSING & FEATURE ENGINEERING"
      ]
    },
    {
      "cell_type": "code",
      "metadata": {
        "id": "woyxoRDU67tj"
      },
      "source": [
        "#DP = info, mis val, duplicate, uji normalitas, uji korelasi, uji linearitas\n",
        "#FE = scaling, label encoder"
      ],
      "execution_count": 32,
      "outputs": []
    },
    {
      "cell_type": "code",
      "source": [
        "df.info()"
      ],
      "metadata": {
        "colab": {
          "base_uri": "https://localhost:8080/"
        },
        "id": "mErEK8jn_fYp",
        "outputId": "4d28043d-17a4-48fc-ecab-43edf34e51cd"
      },
      "execution_count": 33,
      "outputs": [
        {
          "output_type": "stream",
          "name": "stdout",
          "text": [
            "<class 'pandas.core.frame.DataFrame'>\n",
            "RangeIndex: 129 entries, 0 to 128\n",
            "Data columns (total 9 columns):\n",
            " #   Column           Non-Null Count  Dtype  \n",
            "---  ------           --------------  -----  \n",
            " 0   company          129 non-null    object \n",
            " 1   price_rupiah     129 non-null    int64  \n",
            " 2   diameter         129 non-null    float64\n",
            " 3   topping          129 non-null    object \n",
            " 4   variant          129 non-null    object \n",
            " 5   size             129 non-null    object \n",
            " 6   extra_sauce      129 non-null    object \n",
            " 7   extra_cheese     129 non-null    object \n",
            " 8   extra_mushrooms  129 non-null    object \n",
            "dtypes: float64(1), int64(1), object(7)\n",
            "memory usage: 9.2+ KB\n"
          ]
        }
      ]
    },
    {
      "cell_type": "markdown",
      "source": [
        "####Cek Missing Value"
      ],
      "metadata": {
        "id": "XDAJNC4e_YnH"
      }
    },
    {
      "cell_type": "code",
      "source": [
        "df.isna().sum()"
      ],
      "metadata": {
        "colab": {
          "base_uri": "https://localhost:8080/"
        },
        "id": "LVAdfmD-_XCI",
        "outputId": "d7e56bf2-d42c-4305-b932-2df71767083e"
      },
      "execution_count": 34,
      "outputs": [
        {
          "output_type": "execute_result",
          "data": {
            "text/plain": [
              "company            0\n",
              "price_rupiah       0\n",
              "diameter           0\n",
              "topping            0\n",
              "variant            0\n",
              "size               0\n",
              "extra_sauce        0\n",
              "extra_cheese       0\n",
              "extra_mushrooms    0\n",
              "dtype: int64"
            ]
          },
          "metadata": {},
          "execution_count": 34
        }
      ]
    },
    {
      "cell_type": "markdown",
      "source": [
        "####Cek Duplikasi Data"
      ],
      "metadata": {
        "id": "NNKi3mQwAUdA"
      }
    },
    {
      "cell_type": "code",
      "source": [
        "df[df.duplicated()]"
      ],
      "metadata": {
        "colab": {
          "base_uri": "https://localhost:8080/",
          "height": 112
        },
        "id": "WRNKf8iuAT2B",
        "outputId": "8f046067-9243-4dbc-ea90-7b01abbf2c92"
      },
      "execution_count": 35,
      "outputs": [
        {
          "output_type": "execute_result",
          "data": {
            "text/plain": [
              "    company  price_rupiah  diameter     topping   variant size extra_sauce  \\\n",
              "110       E        115000      17.0  mozzarella  new_york   XL          no   \n",
              "122       E         83000      17.0     chicken  new_york   XL          no   \n",
              "\n",
              "    extra_cheese extra_mushrooms  \n",
              "110          yes             yes  \n",
              "122          yes              no  "
            ],
            "text/html": [
              "\n",
              "  <div id=\"df-31421479-80c7-4e09-8693-43a09703a534\">\n",
              "    <div class=\"colab-df-container\">\n",
              "      <div>\n",
              "<style scoped>\n",
              "    .dataframe tbody tr th:only-of-type {\n",
              "        vertical-align: middle;\n",
              "    }\n",
              "\n",
              "    .dataframe tbody tr th {\n",
              "        vertical-align: top;\n",
              "    }\n",
              "\n",
              "    .dataframe thead th {\n",
              "        text-align: right;\n",
              "    }\n",
              "</style>\n",
              "<table border=\"1\" class=\"dataframe\">\n",
              "  <thead>\n",
              "    <tr style=\"text-align: right;\">\n",
              "      <th></th>\n",
              "      <th>company</th>\n",
              "      <th>price_rupiah</th>\n",
              "      <th>diameter</th>\n",
              "      <th>topping</th>\n",
              "      <th>variant</th>\n",
              "      <th>size</th>\n",
              "      <th>extra_sauce</th>\n",
              "      <th>extra_cheese</th>\n",
              "      <th>extra_mushrooms</th>\n",
              "    </tr>\n",
              "  </thead>\n",
              "  <tbody>\n",
              "    <tr>\n",
              "      <th>110</th>\n",
              "      <td>E</td>\n",
              "      <td>115000</td>\n",
              "      <td>17.0</td>\n",
              "      <td>mozzarella</td>\n",
              "      <td>new_york</td>\n",
              "      <td>XL</td>\n",
              "      <td>no</td>\n",
              "      <td>yes</td>\n",
              "      <td>yes</td>\n",
              "    </tr>\n",
              "    <tr>\n",
              "      <th>122</th>\n",
              "      <td>E</td>\n",
              "      <td>83000</td>\n",
              "      <td>17.0</td>\n",
              "      <td>chicken</td>\n",
              "      <td>new_york</td>\n",
              "      <td>XL</td>\n",
              "      <td>no</td>\n",
              "      <td>yes</td>\n",
              "      <td>no</td>\n",
              "    </tr>\n",
              "  </tbody>\n",
              "</table>\n",
              "</div>\n",
              "      <button class=\"colab-df-convert\" onclick=\"convertToInteractive('df-31421479-80c7-4e09-8693-43a09703a534')\"\n",
              "              title=\"Convert this dataframe to an interactive table.\"\n",
              "              style=\"display:none;\">\n",
              "        \n",
              "  <svg xmlns=\"http://www.w3.org/2000/svg\" height=\"24px\"viewBox=\"0 0 24 24\"\n",
              "       width=\"24px\">\n",
              "    <path d=\"M0 0h24v24H0V0z\" fill=\"none\"/>\n",
              "    <path d=\"M18.56 5.44l.94 2.06.94-2.06 2.06-.94-2.06-.94-.94-2.06-.94 2.06-2.06.94zm-11 1L8.5 8.5l.94-2.06 2.06-.94-2.06-.94L8.5 2.5l-.94 2.06-2.06.94zm10 10l.94 2.06.94-2.06 2.06-.94-2.06-.94-.94-2.06-.94 2.06-2.06.94z\"/><path d=\"M17.41 7.96l-1.37-1.37c-.4-.4-.92-.59-1.43-.59-.52 0-1.04.2-1.43.59L10.3 9.45l-7.72 7.72c-.78.78-.78 2.05 0 2.83L4 21.41c.39.39.9.59 1.41.59.51 0 1.02-.2 1.41-.59l7.78-7.78 2.81-2.81c.8-.78.8-2.07 0-2.86zM5.41 20L4 18.59l7.72-7.72 1.47 1.35L5.41 20z\"/>\n",
              "  </svg>\n",
              "      </button>\n",
              "      \n",
              "  <style>\n",
              "    .colab-df-container {\n",
              "      display:flex;\n",
              "      flex-wrap:wrap;\n",
              "      gap: 12px;\n",
              "    }\n",
              "\n",
              "    .colab-df-convert {\n",
              "      background-color: #E8F0FE;\n",
              "      border: none;\n",
              "      border-radius: 50%;\n",
              "      cursor: pointer;\n",
              "      display: none;\n",
              "      fill: #1967D2;\n",
              "      height: 32px;\n",
              "      padding: 0 0 0 0;\n",
              "      width: 32px;\n",
              "    }\n",
              "\n",
              "    .colab-df-convert:hover {\n",
              "      background-color: #E2EBFA;\n",
              "      box-shadow: 0px 1px 2px rgba(60, 64, 67, 0.3), 0px 1px 3px 1px rgba(60, 64, 67, 0.15);\n",
              "      fill: #174EA6;\n",
              "    }\n",
              "\n",
              "    [theme=dark] .colab-df-convert {\n",
              "      background-color: #3B4455;\n",
              "      fill: #D2E3FC;\n",
              "    }\n",
              "\n",
              "    [theme=dark] .colab-df-convert:hover {\n",
              "      background-color: #434B5C;\n",
              "      box-shadow: 0px 1px 3px 1px rgba(0, 0, 0, 0.15);\n",
              "      filter: drop-shadow(0px 1px 2px rgba(0, 0, 0, 0.3));\n",
              "      fill: #FFFFFF;\n",
              "    }\n",
              "  </style>\n",
              "\n",
              "      <script>\n",
              "        const buttonEl =\n",
              "          document.querySelector('#df-31421479-80c7-4e09-8693-43a09703a534 button.colab-df-convert');\n",
              "        buttonEl.style.display =\n",
              "          google.colab.kernel.accessAllowed ? 'block' : 'none';\n",
              "\n",
              "        async function convertToInteractive(key) {\n",
              "          const element = document.querySelector('#df-31421479-80c7-4e09-8693-43a09703a534');\n",
              "          const dataTable =\n",
              "            await google.colab.kernel.invokeFunction('convertToInteractive',\n",
              "                                                     [key], {});\n",
              "          if (!dataTable) return;\n",
              "\n",
              "          const docLinkHtml = 'Like what you see? Visit the ' +\n",
              "            '<a target=\"_blank\" href=https://colab.research.google.com/notebooks/data_table.ipynb>data table notebook</a>'\n",
              "            + ' to learn more about interactive tables.';\n",
              "          element.innerHTML = '';\n",
              "          dataTable['output_type'] = 'display_data';\n",
              "          await google.colab.output.renderOutput(dataTable, element);\n",
              "          const docLink = document.createElement('div');\n",
              "          docLink.innerHTML = docLinkHtml;\n",
              "          element.appendChild(docLink);\n",
              "        }\n",
              "      </script>\n",
              "    </div>\n",
              "  </div>\n",
              "  "
            ]
          },
          "metadata": {},
          "execution_count": 35
        }
      ]
    },
    {
      "cell_type": "code",
      "source": [
        "df.drop_duplicates(inplace=True)"
      ],
      "metadata": {
        "id": "6ZXbi8N7BELy"
      },
      "execution_count": 36,
      "outputs": []
    },
    {
      "cell_type": "code",
      "source": [
        "df.shape"
      ],
      "metadata": {
        "colab": {
          "base_uri": "https://localhost:8080/"
        },
        "id": "jJfdNu2QBSYc",
        "outputId": "1164d535-1b59-4586-f232-1df7f6ed80f0"
      },
      "execution_count": 37,
      "outputs": [
        {
          "output_type": "execute_result",
          "data": {
            "text/plain": [
              "(127, 9)"
            ]
          },
          "metadata": {},
          "execution_count": 37
        }
      ]
    },
    {
      "cell_type": "code",
      "source": [
        "df[df.duplicated()]"
      ],
      "metadata": {
        "colab": {
          "base_uri": "https://localhost:8080/",
          "height": 49
        },
        "id": "huq3R9wvBVLC",
        "outputId": "3cbabe92-cc4a-4ad6-8d9e-15a61c16ea62"
      },
      "execution_count": 38,
      "outputs": [
        {
          "output_type": "execute_result",
          "data": {
            "text/plain": [
              "Empty DataFrame\n",
              "Columns: [company, price_rupiah, diameter, topping, variant, size, extra_sauce, extra_cheese, extra_mushrooms]\n",
              "Index: []"
            ],
            "text/html": [
              "\n",
              "  <div id=\"df-12b07195-89b5-4023-a6e7-3fe54fb940b6\">\n",
              "    <div class=\"colab-df-container\">\n",
              "      <div>\n",
              "<style scoped>\n",
              "    .dataframe tbody tr th:only-of-type {\n",
              "        vertical-align: middle;\n",
              "    }\n",
              "\n",
              "    .dataframe tbody tr th {\n",
              "        vertical-align: top;\n",
              "    }\n",
              "\n",
              "    .dataframe thead th {\n",
              "        text-align: right;\n",
              "    }\n",
              "</style>\n",
              "<table border=\"1\" class=\"dataframe\">\n",
              "  <thead>\n",
              "    <tr style=\"text-align: right;\">\n",
              "      <th></th>\n",
              "      <th>company</th>\n",
              "      <th>price_rupiah</th>\n",
              "      <th>diameter</th>\n",
              "      <th>topping</th>\n",
              "      <th>variant</th>\n",
              "      <th>size</th>\n",
              "      <th>extra_sauce</th>\n",
              "      <th>extra_cheese</th>\n",
              "      <th>extra_mushrooms</th>\n",
              "    </tr>\n",
              "  </thead>\n",
              "  <tbody>\n",
              "  </tbody>\n",
              "</table>\n",
              "</div>\n",
              "      <button class=\"colab-df-convert\" onclick=\"convertToInteractive('df-12b07195-89b5-4023-a6e7-3fe54fb940b6')\"\n",
              "              title=\"Convert this dataframe to an interactive table.\"\n",
              "              style=\"display:none;\">\n",
              "        \n",
              "  <svg xmlns=\"http://www.w3.org/2000/svg\" height=\"24px\"viewBox=\"0 0 24 24\"\n",
              "       width=\"24px\">\n",
              "    <path d=\"M0 0h24v24H0V0z\" fill=\"none\"/>\n",
              "    <path d=\"M18.56 5.44l.94 2.06.94-2.06 2.06-.94-2.06-.94-.94-2.06-.94 2.06-2.06.94zm-11 1L8.5 8.5l.94-2.06 2.06-.94-2.06-.94L8.5 2.5l-.94 2.06-2.06.94zm10 10l.94 2.06.94-2.06 2.06-.94-2.06-.94-.94-2.06-.94 2.06-2.06.94z\"/><path d=\"M17.41 7.96l-1.37-1.37c-.4-.4-.92-.59-1.43-.59-.52 0-1.04.2-1.43.59L10.3 9.45l-7.72 7.72c-.78.78-.78 2.05 0 2.83L4 21.41c.39.39.9.59 1.41.59.51 0 1.02-.2 1.41-.59l7.78-7.78 2.81-2.81c.8-.78.8-2.07 0-2.86zM5.41 20L4 18.59l7.72-7.72 1.47 1.35L5.41 20z\"/>\n",
              "  </svg>\n",
              "      </button>\n",
              "      \n",
              "  <style>\n",
              "    .colab-df-container {\n",
              "      display:flex;\n",
              "      flex-wrap:wrap;\n",
              "      gap: 12px;\n",
              "    }\n",
              "\n",
              "    .colab-df-convert {\n",
              "      background-color: #E8F0FE;\n",
              "      border: none;\n",
              "      border-radius: 50%;\n",
              "      cursor: pointer;\n",
              "      display: none;\n",
              "      fill: #1967D2;\n",
              "      height: 32px;\n",
              "      padding: 0 0 0 0;\n",
              "      width: 32px;\n",
              "    }\n",
              "\n",
              "    .colab-df-convert:hover {\n",
              "      background-color: #E2EBFA;\n",
              "      box-shadow: 0px 1px 2px rgba(60, 64, 67, 0.3), 0px 1px 3px 1px rgba(60, 64, 67, 0.15);\n",
              "      fill: #174EA6;\n",
              "    }\n",
              "\n",
              "    [theme=dark] .colab-df-convert {\n",
              "      background-color: #3B4455;\n",
              "      fill: #D2E3FC;\n",
              "    }\n",
              "\n",
              "    [theme=dark] .colab-df-convert:hover {\n",
              "      background-color: #434B5C;\n",
              "      box-shadow: 0px 1px 3px 1px rgba(0, 0, 0, 0.15);\n",
              "      filter: drop-shadow(0px 1px 2px rgba(0, 0, 0, 0.3));\n",
              "      fill: #FFFFFF;\n",
              "    }\n",
              "  </style>\n",
              "\n",
              "      <script>\n",
              "        const buttonEl =\n",
              "          document.querySelector('#df-12b07195-89b5-4023-a6e7-3fe54fb940b6 button.colab-df-convert');\n",
              "        buttonEl.style.display =\n",
              "          google.colab.kernel.accessAllowed ? 'block' : 'none';\n",
              "\n",
              "        async function convertToInteractive(key) {\n",
              "          const element = document.querySelector('#df-12b07195-89b5-4023-a6e7-3fe54fb940b6');\n",
              "          const dataTable =\n",
              "            await google.colab.kernel.invokeFunction('convertToInteractive',\n",
              "                                                     [key], {});\n",
              "          if (!dataTable) return;\n",
              "\n",
              "          const docLinkHtml = 'Like what you see? Visit the ' +\n",
              "            '<a target=\"_blank\" href=https://colab.research.google.com/notebooks/data_table.ipynb>data table notebook</a>'\n",
              "            + ' to learn more about interactive tables.';\n",
              "          element.innerHTML = '';\n",
              "          dataTable['output_type'] = 'display_data';\n",
              "          await google.colab.output.renderOutput(dataTable, element);\n",
              "          const docLink = document.createElement('div');\n",
              "          docLink.innerHTML = docLinkHtml;\n",
              "          element.appendChild(docLink);\n",
              "        }\n",
              "      </script>\n",
              "    </div>\n",
              "  </div>\n",
              "  "
            ]
          },
          "metadata": {},
          "execution_count": 38
        }
      ]
    },
    {
      "cell_type": "markdown",
      "source": [
        "####Label Encoding\n",
        "mengubah value data kategorik ke numerik"
      ],
      "metadata": {
        "id": "JwRo7va9HR_B"
      }
    },
    {
      "cell_type": "code",
      "source": [
        "df.head()"
      ],
      "metadata": {
        "colab": {
          "base_uri": "https://localhost:8080/",
          "height": 206
        },
        "id": "Og4rgc0WIddC",
        "outputId": "6af23e1c-91c1-46d9-cfc7-7ba0fa2cc945"
      },
      "execution_count": 39,
      "outputs": [
        {
          "output_type": "execute_result",
          "data": {
            "text/plain": [
              "  company  price_rupiah  diameter      topping           variant     size  \\\n",
              "0       A        235000      22.0      chicken  double_signature    jumbo   \n",
              "1       A        198000      20.0    papperoni  double_signature    jumbo   \n",
              "2       A        120000      16.0    mushrooms  double_signature  reguler   \n",
              "3       A        155000      14.0  smoked_beef  double_signature  reguler   \n",
              "4       A        248000      18.0   mozzarella  double_signature    jumbo   \n",
              "\n",
              "  extra_sauce extra_cheese extra_mushrooms  \n",
              "0         yes          yes              no  \n",
              "1         yes          yes              no  \n",
              "2         yes          yes             yes  \n",
              "3         yes           no             yes  \n",
              "4         yes           no             yes  "
            ],
            "text/html": [
              "\n",
              "  <div id=\"df-818ab154-a7db-488a-ab01-9917e087a8d7\">\n",
              "    <div class=\"colab-df-container\">\n",
              "      <div>\n",
              "<style scoped>\n",
              "    .dataframe tbody tr th:only-of-type {\n",
              "        vertical-align: middle;\n",
              "    }\n",
              "\n",
              "    .dataframe tbody tr th {\n",
              "        vertical-align: top;\n",
              "    }\n",
              "\n",
              "    .dataframe thead th {\n",
              "        text-align: right;\n",
              "    }\n",
              "</style>\n",
              "<table border=\"1\" class=\"dataframe\">\n",
              "  <thead>\n",
              "    <tr style=\"text-align: right;\">\n",
              "      <th></th>\n",
              "      <th>company</th>\n",
              "      <th>price_rupiah</th>\n",
              "      <th>diameter</th>\n",
              "      <th>topping</th>\n",
              "      <th>variant</th>\n",
              "      <th>size</th>\n",
              "      <th>extra_sauce</th>\n",
              "      <th>extra_cheese</th>\n",
              "      <th>extra_mushrooms</th>\n",
              "    </tr>\n",
              "  </thead>\n",
              "  <tbody>\n",
              "    <tr>\n",
              "      <th>0</th>\n",
              "      <td>A</td>\n",
              "      <td>235000</td>\n",
              "      <td>22.0</td>\n",
              "      <td>chicken</td>\n",
              "      <td>double_signature</td>\n",
              "      <td>jumbo</td>\n",
              "      <td>yes</td>\n",
              "      <td>yes</td>\n",
              "      <td>no</td>\n",
              "    </tr>\n",
              "    <tr>\n",
              "      <th>1</th>\n",
              "      <td>A</td>\n",
              "      <td>198000</td>\n",
              "      <td>20.0</td>\n",
              "      <td>papperoni</td>\n",
              "      <td>double_signature</td>\n",
              "      <td>jumbo</td>\n",
              "      <td>yes</td>\n",
              "      <td>yes</td>\n",
              "      <td>no</td>\n",
              "    </tr>\n",
              "    <tr>\n",
              "      <th>2</th>\n",
              "      <td>A</td>\n",
              "      <td>120000</td>\n",
              "      <td>16.0</td>\n",
              "      <td>mushrooms</td>\n",
              "      <td>double_signature</td>\n",
              "      <td>reguler</td>\n",
              "      <td>yes</td>\n",
              "      <td>yes</td>\n",
              "      <td>yes</td>\n",
              "    </tr>\n",
              "    <tr>\n",
              "      <th>3</th>\n",
              "      <td>A</td>\n",
              "      <td>155000</td>\n",
              "      <td>14.0</td>\n",
              "      <td>smoked_beef</td>\n",
              "      <td>double_signature</td>\n",
              "      <td>reguler</td>\n",
              "      <td>yes</td>\n",
              "      <td>no</td>\n",
              "      <td>yes</td>\n",
              "    </tr>\n",
              "    <tr>\n",
              "      <th>4</th>\n",
              "      <td>A</td>\n",
              "      <td>248000</td>\n",
              "      <td>18.0</td>\n",
              "      <td>mozzarella</td>\n",
              "      <td>double_signature</td>\n",
              "      <td>jumbo</td>\n",
              "      <td>yes</td>\n",
              "      <td>no</td>\n",
              "      <td>yes</td>\n",
              "    </tr>\n",
              "  </tbody>\n",
              "</table>\n",
              "</div>\n",
              "      <button class=\"colab-df-convert\" onclick=\"convertToInteractive('df-818ab154-a7db-488a-ab01-9917e087a8d7')\"\n",
              "              title=\"Convert this dataframe to an interactive table.\"\n",
              "              style=\"display:none;\">\n",
              "        \n",
              "  <svg xmlns=\"http://www.w3.org/2000/svg\" height=\"24px\"viewBox=\"0 0 24 24\"\n",
              "       width=\"24px\">\n",
              "    <path d=\"M0 0h24v24H0V0z\" fill=\"none\"/>\n",
              "    <path d=\"M18.56 5.44l.94 2.06.94-2.06 2.06-.94-2.06-.94-.94-2.06-.94 2.06-2.06.94zm-11 1L8.5 8.5l.94-2.06 2.06-.94-2.06-.94L8.5 2.5l-.94 2.06-2.06.94zm10 10l.94 2.06.94-2.06 2.06-.94-2.06-.94-.94-2.06-.94 2.06-2.06.94z\"/><path d=\"M17.41 7.96l-1.37-1.37c-.4-.4-.92-.59-1.43-.59-.52 0-1.04.2-1.43.59L10.3 9.45l-7.72 7.72c-.78.78-.78 2.05 0 2.83L4 21.41c.39.39.9.59 1.41.59.51 0 1.02-.2 1.41-.59l7.78-7.78 2.81-2.81c.8-.78.8-2.07 0-2.86zM5.41 20L4 18.59l7.72-7.72 1.47 1.35L5.41 20z\"/>\n",
              "  </svg>\n",
              "      </button>\n",
              "      \n",
              "  <style>\n",
              "    .colab-df-container {\n",
              "      display:flex;\n",
              "      flex-wrap:wrap;\n",
              "      gap: 12px;\n",
              "    }\n",
              "\n",
              "    .colab-df-convert {\n",
              "      background-color: #E8F0FE;\n",
              "      border: none;\n",
              "      border-radius: 50%;\n",
              "      cursor: pointer;\n",
              "      display: none;\n",
              "      fill: #1967D2;\n",
              "      height: 32px;\n",
              "      padding: 0 0 0 0;\n",
              "      width: 32px;\n",
              "    }\n",
              "\n",
              "    .colab-df-convert:hover {\n",
              "      background-color: #E2EBFA;\n",
              "      box-shadow: 0px 1px 2px rgba(60, 64, 67, 0.3), 0px 1px 3px 1px rgba(60, 64, 67, 0.15);\n",
              "      fill: #174EA6;\n",
              "    }\n",
              "\n",
              "    [theme=dark] .colab-df-convert {\n",
              "      background-color: #3B4455;\n",
              "      fill: #D2E3FC;\n",
              "    }\n",
              "\n",
              "    [theme=dark] .colab-df-convert:hover {\n",
              "      background-color: #434B5C;\n",
              "      box-shadow: 0px 1px 3px 1px rgba(0, 0, 0, 0.15);\n",
              "      filter: drop-shadow(0px 1px 2px rgba(0, 0, 0, 0.3));\n",
              "      fill: #FFFFFF;\n",
              "    }\n",
              "  </style>\n",
              "\n",
              "      <script>\n",
              "        const buttonEl =\n",
              "          document.querySelector('#df-818ab154-a7db-488a-ab01-9917e087a8d7 button.colab-df-convert');\n",
              "        buttonEl.style.display =\n",
              "          google.colab.kernel.accessAllowed ? 'block' : 'none';\n",
              "\n",
              "        async function convertToInteractive(key) {\n",
              "          const element = document.querySelector('#df-818ab154-a7db-488a-ab01-9917e087a8d7');\n",
              "          const dataTable =\n",
              "            await google.colab.kernel.invokeFunction('convertToInteractive',\n",
              "                                                     [key], {});\n",
              "          if (!dataTable) return;\n",
              "\n",
              "          const docLinkHtml = 'Like what you see? Visit the ' +\n",
              "            '<a target=\"_blank\" href=https://colab.research.google.com/notebooks/data_table.ipynb>data table notebook</a>'\n",
              "            + ' to learn more about interactive tables.';\n",
              "          element.innerHTML = '';\n",
              "          dataTable['output_type'] = 'display_data';\n",
              "          await google.colab.output.renderOutput(dataTable, element);\n",
              "          const docLink = document.createElement('div');\n",
              "          docLink.innerHTML = docLinkHtml;\n",
              "          element.appendChild(docLink);\n",
              "        }\n",
              "      </script>\n",
              "    </div>\n",
              "  </div>\n",
              "  "
            ]
          },
          "metadata": {},
          "execution_count": 39
        }
      ]
    },
    {
      "cell_type": "code",
      "source": [
        "cat = ['company', 'topping', 'variant', 'size', 'extra_sauce', 'extra_cheese', 'extra_mushrooms']\n",
        "\n",
        "encoded_data = LabelEncoder()\n",
        "\n",
        "for feature in cat:\n",
        "        if feature in df.columns.values:\n",
        "            df[feature] = encoded_data.fit_transform(df[feature])\n",
        "\n",
        "df.head()"
      ],
      "metadata": {
        "colab": {
          "base_uri": "https://localhost:8080/",
          "height": 206
        },
        "id": "ocu_u6PUHVY7",
        "outputId": "fd922406-ac78-44e3-d25c-44d6664eae1d"
      },
      "execution_count": 40,
      "outputs": [
        {
          "output_type": "execute_result",
          "data": {
            "text/plain": [
              "   company  price_rupiah  diameter  topping  variant  size  extra_sauce  \\\n",
              "0        0        235000      22.0        2        8     1            1   \n",
              "1        0        198000      20.0        7        8     1            1   \n",
              "2        0        120000      16.0        5        8     4            1   \n",
              "3        0        155000      14.0        9        8     4            1   \n",
              "4        0        248000      18.0        4        8     1            1   \n",
              "\n",
              "   extra_cheese  extra_mushrooms  \n",
              "0             1                0  \n",
              "1             1                0  \n",
              "2             1                1  \n",
              "3             0                1  \n",
              "4             0                1  "
            ],
            "text/html": [
              "\n",
              "  <div id=\"df-da25137d-2228-4caf-bdc4-2f41ed1693ed\">\n",
              "    <div class=\"colab-df-container\">\n",
              "      <div>\n",
              "<style scoped>\n",
              "    .dataframe tbody tr th:only-of-type {\n",
              "        vertical-align: middle;\n",
              "    }\n",
              "\n",
              "    .dataframe tbody tr th {\n",
              "        vertical-align: top;\n",
              "    }\n",
              "\n",
              "    .dataframe thead th {\n",
              "        text-align: right;\n",
              "    }\n",
              "</style>\n",
              "<table border=\"1\" class=\"dataframe\">\n",
              "  <thead>\n",
              "    <tr style=\"text-align: right;\">\n",
              "      <th></th>\n",
              "      <th>company</th>\n",
              "      <th>price_rupiah</th>\n",
              "      <th>diameter</th>\n",
              "      <th>topping</th>\n",
              "      <th>variant</th>\n",
              "      <th>size</th>\n",
              "      <th>extra_sauce</th>\n",
              "      <th>extra_cheese</th>\n",
              "      <th>extra_mushrooms</th>\n",
              "    </tr>\n",
              "  </thead>\n",
              "  <tbody>\n",
              "    <tr>\n",
              "      <th>0</th>\n",
              "      <td>0</td>\n",
              "      <td>235000</td>\n",
              "      <td>22.0</td>\n",
              "      <td>2</td>\n",
              "      <td>8</td>\n",
              "      <td>1</td>\n",
              "      <td>1</td>\n",
              "      <td>1</td>\n",
              "      <td>0</td>\n",
              "    </tr>\n",
              "    <tr>\n",
              "      <th>1</th>\n",
              "      <td>0</td>\n",
              "      <td>198000</td>\n",
              "      <td>20.0</td>\n",
              "      <td>7</td>\n",
              "      <td>8</td>\n",
              "      <td>1</td>\n",
              "      <td>1</td>\n",
              "      <td>1</td>\n",
              "      <td>0</td>\n",
              "    </tr>\n",
              "    <tr>\n",
              "      <th>2</th>\n",
              "      <td>0</td>\n",
              "      <td>120000</td>\n",
              "      <td>16.0</td>\n",
              "      <td>5</td>\n",
              "      <td>8</td>\n",
              "      <td>4</td>\n",
              "      <td>1</td>\n",
              "      <td>1</td>\n",
              "      <td>1</td>\n",
              "    </tr>\n",
              "    <tr>\n",
              "      <th>3</th>\n",
              "      <td>0</td>\n",
              "      <td>155000</td>\n",
              "      <td>14.0</td>\n",
              "      <td>9</td>\n",
              "      <td>8</td>\n",
              "      <td>4</td>\n",
              "      <td>1</td>\n",
              "      <td>0</td>\n",
              "      <td>1</td>\n",
              "    </tr>\n",
              "    <tr>\n",
              "      <th>4</th>\n",
              "      <td>0</td>\n",
              "      <td>248000</td>\n",
              "      <td>18.0</td>\n",
              "      <td>4</td>\n",
              "      <td>8</td>\n",
              "      <td>1</td>\n",
              "      <td>1</td>\n",
              "      <td>0</td>\n",
              "      <td>1</td>\n",
              "    </tr>\n",
              "  </tbody>\n",
              "</table>\n",
              "</div>\n",
              "      <button class=\"colab-df-convert\" onclick=\"convertToInteractive('df-da25137d-2228-4caf-bdc4-2f41ed1693ed')\"\n",
              "              title=\"Convert this dataframe to an interactive table.\"\n",
              "              style=\"display:none;\">\n",
              "        \n",
              "  <svg xmlns=\"http://www.w3.org/2000/svg\" height=\"24px\"viewBox=\"0 0 24 24\"\n",
              "       width=\"24px\">\n",
              "    <path d=\"M0 0h24v24H0V0z\" fill=\"none\"/>\n",
              "    <path d=\"M18.56 5.44l.94 2.06.94-2.06 2.06-.94-2.06-.94-.94-2.06-.94 2.06-2.06.94zm-11 1L8.5 8.5l.94-2.06 2.06-.94-2.06-.94L8.5 2.5l-.94 2.06-2.06.94zm10 10l.94 2.06.94-2.06 2.06-.94-2.06-.94-.94-2.06-.94 2.06-2.06.94z\"/><path d=\"M17.41 7.96l-1.37-1.37c-.4-.4-.92-.59-1.43-.59-.52 0-1.04.2-1.43.59L10.3 9.45l-7.72 7.72c-.78.78-.78 2.05 0 2.83L4 21.41c.39.39.9.59 1.41.59.51 0 1.02-.2 1.41-.59l7.78-7.78 2.81-2.81c.8-.78.8-2.07 0-2.86zM5.41 20L4 18.59l7.72-7.72 1.47 1.35L5.41 20z\"/>\n",
              "  </svg>\n",
              "      </button>\n",
              "      \n",
              "  <style>\n",
              "    .colab-df-container {\n",
              "      display:flex;\n",
              "      flex-wrap:wrap;\n",
              "      gap: 12px;\n",
              "    }\n",
              "\n",
              "    .colab-df-convert {\n",
              "      background-color: #E8F0FE;\n",
              "      border: none;\n",
              "      border-radius: 50%;\n",
              "      cursor: pointer;\n",
              "      display: none;\n",
              "      fill: #1967D2;\n",
              "      height: 32px;\n",
              "      padding: 0 0 0 0;\n",
              "      width: 32px;\n",
              "    }\n",
              "\n",
              "    .colab-df-convert:hover {\n",
              "      background-color: #E2EBFA;\n",
              "      box-shadow: 0px 1px 2px rgba(60, 64, 67, 0.3), 0px 1px 3px 1px rgba(60, 64, 67, 0.15);\n",
              "      fill: #174EA6;\n",
              "    }\n",
              "\n",
              "    [theme=dark] .colab-df-convert {\n",
              "      background-color: #3B4455;\n",
              "      fill: #D2E3FC;\n",
              "    }\n",
              "\n",
              "    [theme=dark] .colab-df-convert:hover {\n",
              "      background-color: #434B5C;\n",
              "      box-shadow: 0px 1px 3px 1px rgba(0, 0, 0, 0.15);\n",
              "      filter: drop-shadow(0px 1px 2px rgba(0, 0, 0, 0.3));\n",
              "      fill: #FFFFFF;\n",
              "    }\n",
              "  </style>\n",
              "\n",
              "      <script>\n",
              "        const buttonEl =\n",
              "          document.querySelector('#df-da25137d-2228-4caf-bdc4-2f41ed1693ed button.colab-df-convert');\n",
              "        buttonEl.style.display =\n",
              "          google.colab.kernel.accessAllowed ? 'block' : 'none';\n",
              "\n",
              "        async function convertToInteractive(key) {\n",
              "          const element = document.querySelector('#df-da25137d-2228-4caf-bdc4-2f41ed1693ed');\n",
              "          const dataTable =\n",
              "            await google.colab.kernel.invokeFunction('convertToInteractive',\n",
              "                                                     [key], {});\n",
              "          if (!dataTable) return;\n",
              "\n",
              "          const docLinkHtml = 'Like what you see? Visit the ' +\n",
              "            '<a target=\"_blank\" href=https://colab.research.google.com/notebooks/data_table.ipynb>data table notebook</a>'\n",
              "            + ' to learn more about interactive tables.';\n",
              "          element.innerHTML = '';\n",
              "          dataTable['output_type'] = 'display_data';\n",
              "          await google.colab.output.renderOutput(dataTable, element);\n",
              "          const docLink = document.createElement('div');\n",
              "          docLink.innerHTML = docLinkHtml;\n",
              "          element.appendChild(docLink);\n",
              "        }\n",
              "      </script>\n",
              "    </div>\n",
              "  </div>\n",
              "  "
            ]
          },
          "metadata": {},
          "execution_count": 40
        }
      ]
    },
    {
      "cell_type": "markdown",
      "source": [
        "####Uji Normalitas\n",
        "Untuk mengetahui ke-normalitas-an distribusi variabel dependen yakni price_rupiah (& variabel independen). <br> Tingkat ke-normalitas-an pada sebuah data sangat penting, karena menjadi salah satu faktor kesuksesan hasil model prediksi."
      ],
      "metadata": {
        "id": "2qfq5_KREsGi"
      }
    },
    {
      "cell_type": "code",
      "source": [
        "# Cek normalitas data dengan histogram\n",
        "warnings.filterwarnings('ignore')\n",
        "fig, axes = plt.subplots(3, 3, figsize=(25, 10))\n",
        "\n",
        "sns.distplot(df['company'], ax=axes[0, 0])\n",
        "sns.distplot(df['price_rupiah'], ax=axes[0, 1])\n",
        "sns.distplot(df['diameter'], ax=axes[0, 2])\n",
        "sns.distplot(df['topping'], ax=axes[1, 0])\n",
        "sns.distplot(df['variant'], ax=axes[1, 1])\n",
        "sns.distplot(df['size'], ax=axes[1, 2])\n",
        "sns.distplot(df['extra_sauce'], ax=axes[2, 0])\n",
        "sns.distplot(df['extra_cheese'], ax=axes[2, 1])\n",
        "sns.distplot(df['extra_mushrooms'], ax=axes[2, 2])\n",
        "plt.show()"
      ],
      "metadata": {
        "colab": {
          "base_uri": "https://localhost:8080/",
          "height": 605
        },
        "id": "tkhBZXvVErNq",
        "outputId": "49565530-63b9-4955-9a0c-95f587353474"
      },
      "execution_count": 41,
      "outputs": [
        {
          "output_type": "display_data",
          "data": {
            "text/plain": [
              "<Figure size 1800x720 with 9 Axes>"
            ],
            "image/png": "[encoded data removed]"
          },
          "metadata": {
            "needs_background": "light"
          }
        }
      ]
    },
    {
      "cell_type": "code",
      "source": [
        "# Cek normalitas data dengan boxplot\n",
        "fig, axes = plt.subplots(2, 3, figsize=(25, 10))\n",
        "\n",
        "sns.boxplot(df['company'], ax=axes[0, 0])\n",
        "sns.boxplot(df['price_rupiah'], ax=axes[0, 1])\n",
        "sns.boxplot(df['diameter'], ax=axes[0, 2])\n",
        "sns.boxplot(df['topping'], ax=axes[1, 0])\n",
        "sns.boxplot(df['variant'], ax=axes[1, 1])\n",
        "sns.boxplot(df['size'], ax=axes[1, 2])\n",
        "# sns.boxplot(df['extra_sauce'], ax=axes[2, 0])\n",
        "# sns.boxplot(df['extra_cheese'], ax=axes[2, 1])\n",
        "# sns.boxplot(df['extra_mushrooms'], ax=axes[2, 2])\n",
        "plt.show()"
      ],
      "metadata": {
        "colab": {
          "base_uri": "https://localhost:8080/",
          "height": 606
        },
        "id": "fXVRl-egpTnn",
        "outputId": "3321dfa9-b92d-4d36-b772-fde69d7126b3"
      },
      "execution_count": 42,
      "outputs": [
        {
          "output_type": "display_data",
          "data": {
            "text/plain": [
              "<Figure size 1800x720 with 6 Axes>"
            ],
            "image/png": "[encoded data removed]"
          },
          "metadata": {
            "needs_background": "light"
          }
        }
      ]
    },
    {
      "cell_type": "code",
      "source": [
        "#posisi outlier harga\n",
        "print(np.where(df['price_rupiah']>180000))"
      ],
      "metadata": {
        "colab": {
          "base_uri": "https://localhost:8080/"
        },
        "id": "LVLMY4JgqWJi",
        "outputId": "46dd5a17-4bb3-470a-dbf6-788c5f6089d9"
      },
      "execution_count": 43,
      "outputs": [
        {
          "output_type": "stream",
          "name": "stdout",
          "text": [
            "(array([ 0,  1,  4, 20, 21, 84, 85]),)\n"
          ]
        }
      ]
    },
    {
      "cell_type": "markdown",
      "source": [
        "####Uji Linearitas\n",
        "untuk melihat adanya hubungan yang linear antar variabel, khususnya antara variabel dependen & independen"
      ],
      "metadata": {
        "id": "bFastZDPEvhD"
      }
    },
    {
      "cell_type": "code",
      "source": [
        "# Keterkaitan x dengan y\n",
        "fig, axes = plt.subplots(2, 3, figsize=(21, 15))\n",
        "fig.suptitle('Variable Dependent vs Independent')\n",
        "\n",
        "sns.regplot(x=df['company'], y=df['price_rupiah'], lowess=True, line_kws={'color': 'red'}, ax=axes[0, 0])\n",
        "sns.regplot(x=df['diameter'], y=df['price_rupiah'], lowess=True, line_kws={'color': 'red'}, ax=axes[0, 1])\n",
        "sns.regplot(x=df['topping'], y=df['price_rupiah'], lowess=True, line_kws={'color': 'red'}, ax=axes[0, 2])\n",
        "sns.regplot(x=df['variant'], y=df['price_rupiah'], lowess=True, line_kws={'color': 'red'}, ax=axes[1, 0])\n",
        "sns.regplot(x=df['size'], y=df['price_rupiah'], lowess=True, line_kws={'color': 'red'}, ax=axes[1, 1])\n",
        "# sns.regplot(x=df['extra_sauce'], y=df['price_rupiah'], lowess=True, line_kws={'color': 'red'}, ax=axes[1, 2])\n",
        "# sns.regplot(x=df['extra_cheese'], y=df['price_rupiah'], lowess=True, line_kws={'color': 'red'}, ax=axes[2, 0])\n",
        "# sns.regplot(x=df['extra_mushrooms'], y=df['price_rupiah'], lowess=True, line_kws={'color': 'red'}, ax=axes[2, 1])\n",
        "plt.show()"
      ],
      "metadata": {
        "colab": {
          "base_uri": "https://localhost:8080/",
          "height": 985
        },
        "id": "t8rdwgkZEwJb",
        "outputId": "5b06f934-49bf-4e1d-9dd4-38ff28668174"
      },
      "execution_count": 44,
      "outputs": [
        {
          "output_type": "display_data",
          "data": {
            "text/plain": [
              "<Figure size 1512x1080 with 6 Axes>"
            ],
            "image/png": "[encoded data removed]"
          },
          "metadata": {
            "needs_background": "light"
          }
        }
      ]
    },
    {
      "cell_type": "markdown",
      "source": [
        "####Uji Multi-Korelasi\n",
        "untuk mengetahui adanya korelasi yang tinggi antar variabel, khususnya antara variabel dependen & independen"
      ],
      "metadata": {
        "id": "Lh4M3av0E0LH"
      }
    },
    {
      "cell_type": "code",
      "source": [
        "plt.figure(figsize=(16,10))\n",
        "sns.heatmap(df.corr(), vmax=1, vmin=-1, center=0, cmap=\"Spectral\", annot=True)"
      ],
      "metadata": {
        "colab": {
          "base_uri": "https://localhost:8080/",
          "height": 613
        },
        "id": "Z8DjAS3rE6T9",
        "outputId": "e8cc9e4c-96ef-4286-9008-529ed470f8a7"
      },
      "execution_count": 45,
      "outputs": [
        {
          "output_type": "execute_result",
          "data": {
            "text/plain": [
              "<AxesSubplot:>"
            ]
          },
          "metadata": {},
          "execution_count": 45
        },
        {
          "output_type": "display_data",
          "data": {
            "text/plain": [
              "<Figure size 1152x720 with 2 Axes>"
            ],
            "image/png": "[encoded data removed]"
          },
          "metadata": {
            "needs_background": "light"
          }
        }
      ]
    },
    {
      "cell_type": "code",
      "source": [
        "df.corr()['price_rupiah'].sort_values()"
      ],
      "metadata": {
        "colab": {
          "base_uri": "https://localhost:8080/"
        },
        "id": "mhvWMToiStwm",
        "outputId": "fcc990ae-3a6e-4dbe-de55-a5798f3dd9a9"
      },
      "execution_count": 46,
      "outputs": [
        {
          "output_type": "execute_result",
          "data": {
            "text/plain": [
              "size              -0.561466\n",
              "company           -0.310838\n",
              "topping           -0.077101\n",
              "extra_cheese       0.008903\n",
              "extra_mushrooms    0.028141\n",
              "extra_sauce        0.090037\n",
              "variant            0.126834\n",
              "diameter           0.833142\n",
              "price_rupiah       1.000000\n",
              "Name: price_rupiah, dtype: float64"
            ]
          },
          "metadata": {},
          "execution_count": 46
        }
      ]
    },
    {
      "cell_type": "markdown",
      "source": [
        "####Scaling\n",
        "untuk mengubah skala agar antar values tidak memiliki gap yang jauh"
      ],
      "metadata": {
        "id": "V7-qbzMJHYdz"
      }
    },
    {
      "cell_type": "code",
      "source": [
        "scaler = StandardScaler()\n",
        "scaled_df = scaler.fit_transform(df)\n",
        "scaled_df"
      ],
      "metadata": {
        "colab": {
          "base_uri": "https://localhost:8080/"
        },
        "id": "RBIspvNxHaIX",
        "outputId": "0d57fd47-238b-41c8-d5c1-febb7cc350f6"
      },
      "execution_count": 47,
      "outputs": [
        {
          "output_type": "execute_result",
          "data": {
            "text/plain": [
              "array([[-1.41985776,  3.30349405,  2.79942105, ...,  0.81917802,\n",
              "         0.7154752 , -1.12599163],\n",
              "       [-1.41985776,  2.47781822,  2.18325732, ...,  0.81917802,\n",
              "         0.7154752 , -1.12599163],\n",
              "       [-1.41985776,  0.73720429,  0.95092986, ...,  0.81917802,\n",
              "         0.7154752 ,  0.88810607],\n",
              "       ...,\n",
              "       [ 1.39767248,  0.26857747,  0.33476612, ...,  0.81917802,\n",
              "         0.7154752 ,  0.88810607],\n",
              "       [ 1.39767248, -0.95877851, -1.35968414, ...,  0.81917802,\n",
              "        -1.39767248,  0.88810607],\n",
              "       [ 1.39767248, -0.20004936, -0.28139761, ..., -1.22073588,\n",
              "        -1.39767248,  0.88810607]])"
            ]
          },
          "metadata": {},
          "execution_count": 47
        }
      ]
    },
    {
      "cell_type": "code",
      "source": [
        "scaled_df = pd.DataFrame(scaled_df, columns=df.columns)\n",
        "scaled_df"
      ],
      "metadata": {
        "colab": {
          "base_uri": "https://localhost:8080/",
          "height": 423
        },
        "id": "qnWIspMYXY0J",
        "outputId": "f77d8807-90e5-4e4e-c2d5-fba2a8cb5083"
      },
      "execution_count": 48,
      "outputs": [
        {
          "output_type": "execute_result",
          "data": {
            "text/plain": [
              "      company  price_rupiah  diameter   topping   variant      size  \\\n",
              "0   -1.419858      3.303494  2.799421 -1.040195 -0.009060 -1.337144   \n",
              "1   -1.419858      2.477818  2.183257  0.521327 -0.009060 -1.337144   \n",
              "2   -1.419858      0.737204  0.950930 -0.103282 -0.009060  0.759366   \n",
              "3   -1.419858      1.518249  0.334766  1.145936 -0.009060  0.759366   \n",
              "4   -1.419858      3.593596  1.567094 -0.415586 -0.009060 -1.337144   \n",
              "..        ...           ...       ...       ...       ...       ...   \n",
              "122  1.397672     -1.070356 -1.359684  1.458240  1.525022  1.458203   \n",
              "123  1.397672     -0.333943 -0.281398  1.458240  1.525022  0.060529   \n",
              "124  1.397672      0.268577  0.334766  1.458240  1.525022 -0.638308   \n",
              "125  1.397672     -0.958779 -1.359684 -0.727890 -1.543141  1.458203   \n",
              "126  1.397672     -0.200049 -0.281398 -0.727890 -1.543141  0.060529   \n",
              "\n",
              "     extra_sauce  extra_cheese  extra_mushrooms  \n",
              "0       0.819178      0.715475        -1.125992  \n",
              "1       0.819178      0.715475        -1.125992  \n",
              "2       0.819178      0.715475         0.888106  \n",
              "3       0.819178     -1.397672         0.888106  \n",
              "4       0.819178     -1.397672         0.888106  \n",
              "..           ...           ...              ...  \n",
              "122     0.819178      0.715475         0.888106  \n",
              "123     0.819178      0.715475         0.888106  \n",
              "124     0.819178      0.715475         0.888106  \n",
              "125     0.819178     -1.397672         0.888106  \n",
              "126    -1.220736     -1.397672         0.888106  \n",
              "\n",
              "[127 rows x 9 columns]"
            ],
            "text/html": [
              "\n",
              "  <div id=\"df-484c9b30-8b05-4324-b2e4-d186ff58a747\">\n",
              "    <div class=\"colab-df-container\">\n",
              "      <div>\n",
              "<style scoped>\n",
              "    .dataframe tbody tr th:only-of-type {\n",
              "        vertical-align: middle;\n",
              "    }\n",
              "\n",
              "    .dataframe tbody tr th {\n",
              "        vertical-align: top;\n",
              "    }\n",
              "\n",
              "    .dataframe thead th {\n",
              "        text-align: right;\n",
              "    }\n",
              "</style>\n",
              "<table border=\"1\" class=\"dataframe\">\n",
              "  <thead>\n",
              "    <tr style=\"text-align: right;\">\n",
              "      <th></th>\n",
              "      <th>company</th>\n",
              "      <th>price_rupiah</th>\n",
              "      <th>diameter</th>\n",
              "      <th>topping</th>\n",
              "      <th>variant</th>\n",
              "      <th>size</th>\n",
              "      <th>extra_sauce</th>\n",
              "      <th>extra_cheese</th>\n",
              "      <th>extra_mushrooms</th>\n",
              "    </tr>\n",
              "  </thead>\n",
              "  <tbody>\n",
              "    <tr>\n",
              "      <th>0</th>\n",
              "      <td>-1.419858</td>\n",
              "      <td>3.303494</td>\n",
              "      <td>2.799421</td>\n",
              "      <td>-1.040195</td>\n",
              "      <td>-0.009060</td>\n",
              "      <td>-1.337144</td>\n",
              "      <td>0.819178</td>\n",
              "      <td>0.715475</td>\n",
              "      <td>-1.125992</td>\n",
              "    </tr>\n",
              "    <tr>\n",
              "      <th>1</th>\n",
              "      <td>-1.419858</td>\n",
              "      <td>2.477818</td>\n",
              "      <td>2.183257</td>\n",
              "      <td>0.521327</td>\n",
              "      <td>-0.009060</td>\n",
              "      <td>-1.337144</td>\n",
              "      <td>0.819178</td>\n",
              "      <td>0.715475</td>\n",
              "      <td>-1.125992</td>\n",
              "    </tr>\n",
              "    <tr>\n",
              "      <th>2</th>\n",
              "      <td>-1.419858</td>\n",
              "      <td>0.737204</td>\n",
              "      <td>0.950930</td>\n",
              "      <td>-0.103282</td>\n",
              "      <td>-0.009060</td>\n",
              "      <td>0.759366</td>\n",
              "      <td>0.819178</td>\n",
              "      <td>0.715475</td>\n",
              "      <td>0.888106</td>\n",
              "    </tr>\n",
              "    <tr>\n",
              "      <th>3</th>\n",
              "      <td>-1.419858</td>\n",
              "      <td>1.518249</td>\n",
              "      <td>0.334766</td>\n",
              "      <td>1.145936</td>\n",
              "      <td>-0.009060</td>\n",
              "      <td>0.759366</td>\n",
              "      <td>0.819178</td>\n",
              "      <td>-1.397672</td>\n",
              "      <td>0.888106</td>\n",
              "    </tr>\n",
              "    <tr>\n",
              "      <th>4</th>\n",
              "      <td>-1.419858</td>\n",
              "      <td>3.593596</td>\n",
              "      <td>1.567094</td>\n",
              "      <td>-0.415586</td>\n",
              "      <td>-0.009060</td>\n",
              "      <td>-1.337144</td>\n",
              "      <td>0.819178</td>\n",
              "      <td>-1.397672</td>\n",
              "      <td>0.888106</td>\n",
              "    </tr>\n",
              "    <tr>\n",
              "      <th>...</th>\n",
              "      <td>...</td>\n",
              "      <td>...</td>\n",
              "      <td>...</td>\n",
              "      <td>...</td>\n",
              "      <td>...</td>\n",
              "      <td>...</td>\n",
              "      <td>...</td>\n",
              "      <td>...</td>\n",
              "      <td>...</td>\n",
              "    </tr>\n",
              "    <tr>\n",
              "      <th>122</th>\n",
              "      <td>1.397672</td>\n",
              "      <td>-1.070356</td>\n",
              "      <td>-1.359684</td>\n",
              "      <td>1.458240</td>\n",
              "      <td>1.525022</td>\n",
              "      <td>1.458203</td>\n",
              "      <td>0.819178</td>\n",
              "      <td>0.715475</td>\n",
              "      <td>0.888106</td>\n",
              "    </tr>\n",
              "    <tr>\n",
              "      <th>123</th>\n",
              "      <td>1.397672</td>\n",
              "      <td>-0.333943</td>\n",
              "      <td>-0.281398</td>\n",
              "      <td>1.458240</td>\n",
              "      <td>1.525022</td>\n",
              "      <td>0.060529</td>\n",
              "      <td>0.819178</td>\n",
              "      <td>0.715475</td>\n",
              "      <td>0.888106</td>\n",
              "    </tr>\n",
              "    <tr>\n",
              "      <th>124</th>\n",
              "      <td>1.397672</td>\n",
              "      <td>0.268577</td>\n",
              "      <td>0.334766</td>\n",
              "      <td>1.458240</td>\n",
              "      <td>1.525022</td>\n",
              "      <td>-0.638308</td>\n",
              "      <td>0.819178</td>\n",
              "      <td>0.715475</td>\n",
              "      <td>0.888106</td>\n",
              "    </tr>\n",
              "    <tr>\n",
              "      <th>125</th>\n",
              "      <td>1.397672</td>\n",
              "      <td>-0.958779</td>\n",
              "      <td>-1.359684</td>\n",
              "      <td>-0.727890</td>\n",
              "      <td>-1.543141</td>\n",
              "      <td>1.458203</td>\n",
              "      <td>0.819178</td>\n",
              "      <td>-1.397672</td>\n",
              "      <td>0.888106</td>\n",
              "    </tr>\n",
              "    <tr>\n",
              "      <th>126</th>\n",
              "      <td>1.397672</td>\n",
              "      <td>-0.200049</td>\n",
              "      <td>-0.281398</td>\n",
              "      <td>-0.727890</td>\n",
              "      <td>-1.543141</td>\n",
              "      <td>0.060529</td>\n",
              "      <td>-1.220736</td>\n",
              "      <td>-1.397672</td>\n",
              "      <td>0.888106</td>\n",
              "    </tr>\n",
              "  </tbody>\n",
              "</table>\n",
              "<p>127 rows × 9 columns</p>\n",
              "</div>\n",
              "      <button class=\"colab-df-convert\" onclick=\"convertToInteractive('df-484c9b30-8b05-4324-b2e4-d186ff58a747')\"\n",
              "              title=\"Convert this dataframe to an interactive table.\"\n",
              "              style=\"display:none;\">\n",
              "        \n",
              "  <svg xmlns=\"http://www.w3.org/2000/svg\" height=\"24px\"viewBox=\"0 0 24 24\"\n",
              "       width=\"24px\">\n",
              "    <path d=\"M0 0h24v24H0V0z\" fill=\"none\"/>\n",
              "    <path d=\"M18.56 5.44l.94 2.06.94-2.06 2.06-.94-2.06-.94-.94-2.06-.94 2.06-2.06.94zm-11 1L8.5 8.5l.94-2.06 2.06-.94-2.06-.94L8.5 2.5l-.94 2.06-2.06.94zm10 10l.94 2.06.94-2.06 2.06-.94-2.06-.94-.94-2.06-.94 2.06-2.06.94z\"/><path d=\"M17.41 7.96l-1.37-1.37c-.4-.4-.92-.59-1.43-.59-.52 0-1.04.2-1.43.59L10.3 9.45l-7.72 7.72c-.78.78-.78 2.05 0 2.83L4 21.41c.39.39.9.59 1.41.59.51 0 1.02-.2 1.41-.59l7.78-7.78 2.81-2.81c.8-.78.8-2.07 0-2.86zM5.41 20L4 18.59l7.72-7.72 1.47 1.35L5.41 20z\"/>\n",
              "  </svg>\n",
              "      </button>\n",
              "      \n",
              "  <style>\n",
              "    .colab-df-container {\n",
              "      display:flex;\n",
              "      flex-wrap:wrap;\n",
              "      gap: 12px;\n",
              "    }\n",
              "\n",
              "    .colab-df-convert {\n",
              "      background-color: #E8F0FE;\n",
              "      border: none;\n",
              "      border-radius: 50%;\n",
              "      cursor: pointer;\n",
              "      display: none;\n",
              "      fill: #1967D2;\n",
              "      height: 32px;\n",
              "      padding: 0 0 0 0;\n",
              "      width: 32px;\n",
              "    }\n",
              "\n",
              "    .colab-df-convert:hover {\n",
              "      background-color: #E2EBFA;\n",
              "      box-shadow: 0px 1px 2px rgba(60, 64, 67, 0.3), 0px 1px 3px 1px rgba(60, 64, 67, 0.15);\n",
              "      fill: #174EA6;\n",
              "    }\n",
              "\n",
              "    [theme=dark] .colab-df-convert {\n",
              "      background-color: #3B4455;\n",
              "      fill: #D2E3FC;\n",
              "    }\n",
              "\n",
              "    [theme=dark] .colab-df-convert:hover {\n",
              "      background-color: #434B5C;\n",
              "      box-shadow: 0px 1px 3px 1px rgba(0, 0, 0, 0.15);\n",
              "      filter: drop-shadow(0px 1px 2px rgba(0, 0, 0, 0.3));\n",
              "      fill: #FFFFFF;\n",
              "    }\n",
              "  </style>\n",
              "\n",
              "      <script>\n",
              "        const buttonEl =\n",
              "          document.querySelector('#df-484c9b30-8b05-4324-b2e4-d186ff58a747 button.colab-df-convert');\n",
              "        buttonEl.style.display =\n",
              "          google.colab.kernel.accessAllowed ? 'block' : 'none';\n",
              "\n",
              "        async function convertToInteractive(key) {\n",
              "          const element = document.querySelector('#df-484c9b30-8b05-4324-b2e4-d186ff58a747');\n",
              "          const dataTable =\n",
              "            await google.colab.kernel.invokeFunction('convertToInteractive',\n",
              "                                                     [key], {});\n",
              "          if (!dataTable) return;\n",
              "\n",
              "          const docLinkHtml = 'Like what you see? Visit the ' +\n",
              "            '<a target=\"_blank\" href=https://colab.research.google.com/notebooks/data_table.ipynb>data table notebook</a>'\n",
              "            + ' to learn more about interactive tables.';\n",
              "          element.innerHTML = '';\n",
              "          dataTable['output_type'] = 'display_data';\n",
              "          await google.colab.output.renderOutput(dataTable, element);\n",
              "          const docLink = document.createElement('div');\n",
              "          docLink.innerHTML = docLinkHtml;\n",
              "          element.appendChild(docLink);\n",
              "        }\n",
              "      </script>\n",
              "    </div>\n",
              "  </div>\n",
              "  "
            ]
          },
          "metadata": {},
          "execution_count": 48
        }
      ]
    },
    {
      "cell_type": "markdown",
      "metadata": {
        "id": "UwMJ3Dgr_oob"
      },
      "source": [
        "### MODELING"
      ]
    },
    {
      "cell_type": "markdown",
      "source": [
        "####Train-Test-Split"
      ],
      "metadata": {
        "id": "1MjT4rIyD1tt"
      }
    },
    {
      "cell_type": "code",
      "metadata": {
        "id": "PZEKxTJUC3iT"
      },
      "source": [
        "X = scaled_df.drop(\"price_rupiah\", axis=1).values\n",
        "y = scaled_df[\"price_rupiah\"].values.reshape(-1,1)\n",
        "\n",
        "X_train, X_test, y_train, y_test = train_test_split(X, y, test_size=0.3,random_state=0)"
      ],
      "execution_count": 49,
      "outputs": []
    },
    {
      "cell_type": "code",
      "source": [
        "print(\"Ukuran X train \", len(X_train))\n",
        "print(\"Ukuran X test \", len(X_test))\n",
        "print(\"Ukuran y train \", len(y_train))\n",
        "print(\"Ukuran y test \", len(y_test))"
      ],
      "metadata": {
        "colab": {
          "base_uri": "https://localhost:8080/"
        },
        "id": "lyQS6O_o02Ta",
        "outputId": "c424238d-a58f-48f5-d445-6e71f1219e6e"
      },
      "execution_count": 50,
      "outputs": [
        {
          "output_type": "stream",
          "name": "stdout",
          "text": [
            "Ukuran X train  88\n",
            "Ukuran X test  39\n",
            "Ukuran y train  88\n",
            "Ukuran y test  39\n"
          ]
        }
      ]
    },
    {
      "cell_type": "markdown",
      "source": [
        "####Membuat model dengan Statsmodel - OLS"
      ],
      "metadata": {
        "id": "FpVjUsyLD-nt"
      }
    },
    {
      "cell_type": "code",
      "source": [
        "#membuat model dengan statsmodel - Ordinary Least Square (OLS)\n",
        "Input = sm.add_constant(X_train)\n",
        "SimpleModel = sm.OLS(y_train, Input, missing='drop')\n",
        "results = SimpleModel.fit()\n",
        "print(results.summary())"
      ],
      "metadata": {
        "colab": {
          "base_uri": "https://localhost:8080/"
        },
        "id": "Z4u3hFJ3JmLV",
        "outputId": "37bbff62-2c61-43c9-cbc8-314a3bdbd9e4"
      },
      "execution_count": 51,
      "outputs": [
        {
          "output_type": "stream",
          "name": "stdout",
          "text": [
            "                            OLS Regression Results                            \n",
            "==============================================================================\n",
            "Dep. Variable:                      y   R-squared:                       0.790\n",
            "Model:                            OLS   Adj. R-squared:                  0.769\n",
            "Method:                 Least Squares   F-statistic:                     37.26\n",
            "Date:                Tue, 14 Jun 2022   Prob (F-statistic):           9.26e-24\n",
            "Time:                        10:00:20   Log-Likelihood:                -63.038\n",
            "No. Observations:                  88   AIC:                             144.1\n",
            "Df Residuals:                      79   BIC:                             166.4\n",
            "Df Model:                           8                                         \n",
            "Covariance Type:            nonrobust                                         \n",
            "==============================================================================\n",
            "                 coef    std err          t      P>|t|      [0.025      0.975]\n",
            "------------------------------------------------------------------------------\n",
            "const      -2.262e-05      0.056     -0.000      1.000      -0.112       0.112\n",
            "x1            -0.0962      0.058     -1.646      0.104      -0.213       0.020\n",
            "x2             1.1730      0.105     11.138      0.000       0.963       1.383\n",
            "x3             0.0739      0.063      1.165      0.248      -0.052       0.200\n",
            "x4            -0.0010      0.062     -0.017      0.987      -0.125       0.123\n",
            "x5             0.3913      0.110      3.572      0.001       0.173       0.609\n",
            "x6             0.1231      0.058      2.114      0.038       0.007       0.239\n",
            "x7            -0.0138      0.061     -0.224      0.823      -0.136       0.108\n",
            "x8             0.0146      0.058      0.253      0.801      -0.100       0.129\n",
            "==============================================================================\n",
            "Omnibus:                       25.463   Durbin-Watson:                   2.119\n",
            "Prob(Omnibus):                  0.000   Jarque-Bera (JB):               40.475\n",
            "Skew:                           1.210   Prob(JB):                     1.63e-09\n",
            "Kurtosis:                       5.276   Cond. No.                         4.10\n",
            "==============================================================================\n",
            "\n",
            "Warnings:\n",
            "[1] Standard Errors assume that the covariance matrix of the errors is correctly specified.\n"
          ]
        }
      ]
    },
    {
      "cell_type": "markdown",
      "source": [
        "<u> **Hasil** </u>:\n",
        "\n",
        "Terdapat tiga nilai p>|t| yang memiliki nilai kurang dari 0,05, yakni coef x2, x5, & x6. Artinya ketiga variabel independen tersebut yang paling mmemberikan pengaruh signifikan terhadap variabel dependen.\n",
        "\n",
        "Nilai R-squared 0,790, artinya variabel dependen price_rupiah dapat dijelaskan oleh delapan variabel independen sebesar 79%, makin besar nilai R-squared akan semakin bagus."
      ],
      "metadata": {
        "id": "d6NREUzmIwSC"
      }
    },
    {
      "cell_type": "markdown",
      "metadata": {
        "id": "P_POnKZiJQ3S"
      },
      "source": [
        "### LOAD AND PREDICT NEW DATA"
      ]
    },
    {
      "cell_type": "code",
      "source": [
        "#membuat list\n",
        "list_columns = []\n",
        "\n",
        "for i in df.columns:\n",
        "  if i != \"price_rupiah\":\n",
        "    list_columns.append(i)"
      ],
      "metadata": {
        "id": "hqgxPf9hNljc"
      },
      "execution_count": 52,
      "outputs": []
    },
    {
      "cell_type": "code",
      "metadata": {
        "id": "hm_lScYnJmAQ"
      },
      "source": [
        "#membuat prediksi model\n",
        "Input_test = sm.add_constant(X_test)\n",
        "prediction_1 = results.predict(Input_test)"
      ],
      "execution_count": 53,
      "outputs": []
    },
    {
      "cell_type": "code",
      "source": [
        "df_statsmod = pd.DataFrame(X_test, columns=list_columns)\n",
        "df_statsmod[\"actual_price\"] = y_test\n",
        "df_statsmod[\"prediction_price\"] = prediction_1\n",
        "df_statsmod.head()"
      ],
      "metadata": {
        "colab": {
          "base_uri": "https://localhost:8080/",
          "height": 206
        },
        "id": "e3PWVidvOMXv",
        "outputId": "0134c0da-1915-4f7d-e727-5b6b322cae44"
      },
      "execution_count": 54,
      "outputs": [
        {
          "output_type": "execute_result",
          "data": {
            "text/plain": [
              "    company  diameter   topping   variant      size  extra_sauce  \\\n",
              "0 -1.419858 -0.281398 -0.103282 -0.967861  0.759366     0.819178   \n",
              "1 -0.011093  0.334766  1.458240  1.716782 -0.638308     0.819178   \n",
              "2  1.397672 -0.281398 -0.727890 -1.543141  0.060529    -1.220736   \n",
              "3 -1.419858  1.104971 -1.040195 -0.200820  0.759366     0.819178   \n",
              "4 -0.715475 -0.281398 -1.040195 -0.584340  0.060529    -1.220736   \n",
              "\n",
              "   extra_cheese  extra_mushrooms  actual_price  prediction_price  \n",
              "0     -1.397672         0.888106      0.067737          0.230026  \n",
              "1      0.715475         0.888106      0.268577          0.353897  \n",
              "2     -1.397672         0.888106     -0.200049         -0.611229  \n",
              "3     -1.397672        -1.125992      1.384356          1.756923  \n",
              "4     -1.397672        -1.125992     -0.244680         -0.461308  "
            ],
            "text/html": [
              "\n",
              "  <div id=\"df-df1e034b-0306-4cc9-a219-3d77596d1dcd\">\n",
              "    <div class=\"colab-df-container\">\n",
              "      <div>\n",
              "<style scoped>\n",
              "    .dataframe tbody tr th:only-of-type {\n",
              "        vertical-align: middle;\n",
              "    }\n",
              "\n",
              "    .dataframe tbody tr th {\n",
              "        vertical-align: top;\n",
              "    }\n",
              "\n",
              "    .dataframe thead th {\n",
              "        text-align: right;\n",
              "    }\n",
              "</style>\n",
              "<table border=\"1\" class=\"dataframe\">\n",
              "  <thead>\n",
              "    <tr style=\"text-align: right;\">\n",
              "      <th></th>\n",
              "      <th>company</th>\n",
              "      <th>diameter</th>\n",
              "      <th>topping</th>\n",
              "      <th>variant</th>\n",
              "      <th>size</th>\n",
              "      <th>extra_sauce</th>\n",
              "      <th>extra_cheese</th>\n",
              "      <th>extra_mushrooms</th>\n",
              "      <th>actual_price</th>\n",
              "      <th>prediction_price</th>\n",
              "    </tr>\n",
              "  </thead>\n",
              "  <tbody>\n",
              "    <tr>\n",
              "      <th>0</th>\n",
              "      <td>-1.419858</td>\n",
              "      <td>-0.281398</td>\n",
              "      <td>-0.103282</td>\n",
              "      <td>-0.967861</td>\n",
              "      <td>0.759366</td>\n",
              "      <td>0.819178</td>\n",
              "      <td>-1.397672</td>\n",
              "      <td>0.888106</td>\n",
              "      <td>0.067737</td>\n",
              "      <td>0.230026</td>\n",
              "    </tr>\n",
              "    <tr>\n",
              "      <th>1</th>\n",
              "      <td>-0.011093</td>\n",
              "      <td>0.334766</td>\n",
              "      <td>1.458240</td>\n",
              "      <td>1.716782</td>\n",
              "      <td>-0.638308</td>\n",
              "      <td>0.819178</td>\n",
              "      <td>0.715475</td>\n",
              "      <td>0.888106</td>\n",
              "      <td>0.268577</td>\n",
              "      <td>0.353897</td>\n",
              "    </tr>\n",
              "    <tr>\n",
              "      <th>2</th>\n",
              "      <td>1.397672</td>\n",
              "      <td>-0.281398</td>\n",
              "      <td>-0.727890</td>\n",
              "      <td>-1.543141</td>\n",
              "      <td>0.060529</td>\n",
              "      <td>-1.220736</td>\n",
              "      <td>-1.397672</td>\n",
              "      <td>0.888106</td>\n",
              "      <td>-0.200049</td>\n",
              "      <td>-0.611229</td>\n",
              "    </tr>\n",
              "    <tr>\n",
              "      <th>3</th>\n",
              "      <td>-1.419858</td>\n",
              "      <td>1.104971</td>\n",
              "      <td>-1.040195</td>\n",
              "      <td>-0.200820</td>\n",
              "      <td>0.759366</td>\n",
              "      <td>0.819178</td>\n",
              "      <td>-1.397672</td>\n",
              "      <td>-1.125992</td>\n",
              "      <td>1.384356</td>\n",
              "      <td>1.756923</td>\n",
              "    </tr>\n",
              "    <tr>\n",
              "      <th>4</th>\n",
              "      <td>-0.715475</td>\n",
              "      <td>-0.281398</td>\n",
              "      <td>-1.040195</td>\n",
              "      <td>-0.584340</td>\n",
              "      <td>0.060529</td>\n",
              "      <td>-1.220736</td>\n",
              "      <td>-1.397672</td>\n",
              "      <td>-1.125992</td>\n",
              "      <td>-0.244680</td>\n",
              "      <td>-0.461308</td>\n",
              "    </tr>\n",
              "  </tbody>\n",
              "</table>\n",
              "</div>\n",
              "      <button class=\"colab-df-convert\" onclick=\"convertToInteractive('df-df1e034b-0306-4cc9-a219-3d77596d1dcd')\"\n",
              "              title=\"Convert this dataframe to an interactive table.\"\n",
              "              style=\"display:none;\">\n",
              "        \n",
              "  <svg xmlns=\"http://www.w3.org/2000/svg\" height=\"24px\"viewBox=\"0 0 24 24\"\n",
              "       width=\"24px\">\n",
              "    <path d=\"M0 0h24v24H0V0z\" fill=\"none\"/>\n",
              "    <path d=\"M18.56 5.44l.94 2.06.94-2.06 2.06-.94-2.06-.94-.94-2.06-.94 2.06-2.06.94zm-11 1L8.5 8.5l.94-2.06 2.06-.94-2.06-.94L8.5 2.5l-.94 2.06-2.06.94zm10 10l.94 2.06.94-2.06 2.06-.94-2.06-.94-.94-2.06-.94 2.06-2.06.94z\"/><path d=\"M17.41 7.96l-1.37-1.37c-.4-.4-.92-.59-1.43-.59-.52 0-1.04.2-1.43.59L10.3 9.45l-7.72 7.72c-.78.78-.78 2.05 0 2.83L4 21.41c.39.39.9.59 1.41.59.51 0 1.02-.2 1.41-.59l7.78-7.78 2.81-2.81c.8-.78.8-2.07 0-2.86zM5.41 20L4 18.59l7.72-7.72 1.47 1.35L5.41 20z\"/>\n",
              "  </svg>\n",
              "      </button>\n",
              "      \n",
              "  <style>\n",
              "    .colab-df-container {\n",
              "      display:flex;\n",
              "      flex-wrap:wrap;\n",
              "      gap: 12px;\n",
              "    }\n",
              "\n",
              "    .colab-df-convert {\n",
              "      background-color: #E8F0FE;\n",
              "      border: none;\n",
              "      border-radius: 50%;\n",
              "      cursor: pointer;\n",
              "      display: none;\n",
              "      fill: #1967D2;\n",
              "      height: 32px;\n",
              "      padding: 0 0 0 0;\n",
              "      width: 32px;\n",
              "    }\n",
              "\n",
              "    .colab-df-convert:hover {\n",
              "      background-color: #E2EBFA;\n",
              "      box-shadow: 0px 1px 2px rgba(60, 64, 67, 0.3), 0px 1px 3px 1px rgba(60, 64, 67, 0.15);\n",
              "      fill: #174EA6;\n",
              "    }\n",
              "\n",
              "    [theme=dark] .colab-df-convert {\n",
              "      background-color: #3B4455;\n",
              "      fill: #D2E3FC;\n",
              "    }\n",
              "\n",
              "    [theme=dark] .colab-df-convert:hover {\n",
              "      background-color: #434B5C;\n",
              "      box-shadow: 0px 1px 3px 1px rgba(0, 0, 0, 0.15);\n",
              "      filter: drop-shadow(0px 1px 2px rgba(0, 0, 0, 0.3));\n",
              "      fill: #FFFFFF;\n",
              "    }\n",
              "  </style>\n",
              "\n",
              "      <script>\n",
              "        const buttonEl =\n",
              "          document.querySelector('#df-df1e034b-0306-4cc9-a219-3d77596d1dcd button.colab-df-convert');\n",
              "        buttonEl.style.display =\n",
              "          google.colab.kernel.accessAllowed ? 'block' : 'none';\n",
              "\n",
              "        async function convertToInteractive(key) {\n",
              "          const element = document.querySelector('#df-df1e034b-0306-4cc9-a219-3d77596d1dcd');\n",
              "          const dataTable =\n",
              "            await google.colab.kernel.invokeFunction('convertToInteractive',\n",
              "                                                     [key], {});\n",
              "          if (!dataTable) return;\n",
              "\n",
              "          const docLinkHtml = 'Like what you see? Visit the ' +\n",
              "            '<a target=\"_blank\" href=https://colab.research.google.com/notebooks/data_table.ipynb>data table notebook</a>'\n",
              "            + ' to learn more about interactive tables.';\n",
              "          element.innerHTML = '';\n",
              "          dataTable['output_type'] = 'display_data';\n",
              "          await google.colab.output.renderOutput(dataTable, element);\n",
              "          const docLink = document.createElement('div');\n",
              "          docLink.innerHTML = docLinkHtml;\n",
              "          element.appendChild(docLink);\n",
              "        }\n",
              "      </script>\n",
              "    </div>\n",
              "  </div>\n",
              "  "
            ]
          },
          "metadata": {},
          "execution_count": 54
        }
      ]
    },
    {
      "cell_type": "markdown",
      "source": [
        "####Uji Distribusi Residual\n",
        "Untuk melihat normalitas data pada residual. <br> Jika membentuk suatu pola seperti lonceng (bell curve) maka data residual dapat dikatakan berdistribusi secara normal."
      ],
      "metadata": {
        "id": "RCR3cf8KEbw6"
      }
    },
    {
      "cell_type": "code",
      "source": [
        "# Melihat distribusi residual (selisih antara nilai prediksi & faktual)\n",
        "residual1 = df_statsmod['actual_price'] - df_statsmod['prediction_price']\n",
        "sns.distplot(residual1, label=\"residual\")\n",
        "plt.legend()\n",
        "plt.show()"
      ],
      "metadata": {
        "colab": {
          "base_uri": "https://localhost:8080/",
          "height": 265
        },
        "id": "qCaJhY7HOaRg",
        "outputId": "89c871cb-19b3-42aa-b600-8093070623c7"
      },
      "execution_count": 55,
      "outputs": [
        {
          "output_type": "display_data",
          "data": {
            "text/plain": [
              "<Figure size 432x288 with 1 Axes>"
            ],
            "image/png": "[encoded data removed]"
          },
          "metadata": {
            "needs_background": "light"
          }
        }
      ]
    },
    {
      "cell_type": "code",
      "source": [
        "df_statsmod[\"residual\"] = residual1\n",
        "df_statsmod.head()"
      ],
      "metadata": {
        "colab": {
          "base_uri": "https://localhost:8080/",
          "height": 206
        },
        "id": "fbejtuTVOsUt",
        "outputId": "2a7bf905-dc6a-4e76-994d-485dc6726279"
      },
      "execution_count": 56,
      "outputs": [
        {
          "output_type": "execute_result",
          "data": {
            "text/plain": [
              "    company  diameter   topping   variant      size  extra_sauce  \\\n",
              "0 -1.419858 -0.281398 -0.103282 -0.967861  0.759366     0.819178   \n",
              "1 -0.011093  0.334766  1.458240  1.716782 -0.638308     0.819178   \n",
              "2  1.397672 -0.281398 -0.727890 -1.543141  0.060529    -1.220736   \n",
              "3 -1.419858  1.104971 -1.040195 -0.200820  0.759366     0.819178   \n",
              "4 -0.715475 -0.281398 -1.040195 -0.584340  0.060529    -1.220736   \n",
              "\n",
              "   extra_cheese  extra_mushrooms  actual_price  prediction_price  residual  \n",
              "0     -1.397672         0.888106      0.067737          0.230026 -0.162289  \n",
              "1      0.715475         0.888106      0.268577          0.353897 -0.085319  \n",
              "2     -1.397672         0.888106     -0.200049         -0.611229  0.411179  \n",
              "3     -1.397672        -1.125992      1.384356          1.756923 -0.372567  \n",
              "4     -1.397672        -1.125992     -0.244680         -0.461308  0.216627  "
            ],
            "text/html": [
              "\n",
              "  <div id=\"df-3e1a6843-500a-4e15-a927-812671939b78\">\n",
              "    <div class=\"colab-df-container\">\n",
              "      <div>\n",
              "<style scoped>\n",
              "    .dataframe tbody tr th:only-of-type {\n",
              "        vertical-align: middle;\n",
              "    }\n",
              "\n",
              "    .dataframe tbody tr th {\n",
              "        vertical-align: top;\n",
              "    }\n",
              "\n",
              "    .dataframe thead th {\n",
              "        text-align: right;\n",
              "    }\n",
              "</style>\n",
              "<table border=\"1\" class=\"dataframe\">\n",
              "  <thead>\n",
              "    <tr style=\"text-align: right;\">\n",
              "      <th></th>\n",
              "      <th>company</th>\n",
              "      <th>diameter</th>\n",
              "      <th>topping</th>\n",
              "      <th>variant</th>\n",
              "      <th>size</th>\n",
              "      <th>extra_sauce</th>\n",
              "      <th>extra_cheese</th>\n",
              "      <th>extra_mushrooms</th>\n",
              "      <th>actual_price</th>\n",
              "      <th>prediction_price</th>\n",
              "      <th>residual</th>\n",
              "    </tr>\n",
              "  </thead>\n",
              "  <tbody>\n",
              "    <tr>\n",
              "      <th>0</th>\n",
              "      <td>-1.419858</td>\n",
              "      <td>-0.281398</td>\n",
              "      <td>-0.103282</td>\n",
              "      <td>-0.967861</td>\n",
              "      <td>0.759366</td>\n",
              "      <td>0.819178</td>\n",
              "      <td>-1.397672</td>\n",
              "      <td>0.888106</td>\n",
              "      <td>0.067737</td>\n",
              "      <td>0.230026</td>\n",
              "      <td>-0.162289</td>\n",
              "    </tr>\n",
              "    <tr>\n",
              "      <th>1</th>\n",
              "      <td>-0.011093</td>\n",
              "      <td>0.334766</td>\n",
              "      <td>1.458240</td>\n",
              "      <td>1.716782</td>\n",
              "      <td>-0.638308</td>\n",
              "      <td>0.819178</td>\n",
              "      <td>0.715475</td>\n",
              "      <td>0.888106</td>\n",
              "      <td>0.268577</td>\n",
              "      <td>0.353897</td>\n",
              "      <td>-0.085319</td>\n",
              "    </tr>\n",
              "    <tr>\n",
              "      <th>2</th>\n",
              "      <td>1.397672</td>\n",
              "      <td>-0.281398</td>\n",
              "      <td>-0.727890</td>\n",
              "      <td>-1.543141</td>\n",
              "      <td>0.060529</td>\n",
              "      <td>-1.220736</td>\n",
              "      <td>-1.397672</td>\n",
              "      <td>0.888106</td>\n",
              "      <td>-0.200049</td>\n",
              "      <td>-0.611229</td>\n",
              "      <td>0.411179</td>\n",
              "    </tr>\n",
              "    <tr>\n",
              "      <th>3</th>\n",
              "      <td>-1.419858</td>\n",
              "      <td>1.104971</td>\n",
              "      <td>-1.040195</td>\n",
              "      <td>-0.200820</td>\n",
              "      <td>0.759366</td>\n",
              "      <td>0.819178</td>\n",
              "      <td>-1.397672</td>\n",
              "      <td>-1.125992</td>\n",
              "      <td>1.384356</td>\n",
              "      <td>1.756923</td>\n",
              "      <td>-0.372567</td>\n",
              "    </tr>\n",
              "    <tr>\n",
              "      <th>4</th>\n",
              "      <td>-0.715475</td>\n",
              "      <td>-0.281398</td>\n",
              "      <td>-1.040195</td>\n",
              "      <td>-0.584340</td>\n",
              "      <td>0.060529</td>\n",
              "      <td>-1.220736</td>\n",
              "      <td>-1.397672</td>\n",
              "      <td>-1.125992</td>\n",
              "      <td>-0.244680</td>\n",
              "      <td>-0.461308</td>\n",
              "      <td>0.216627</td>\n",
              "    </tr>\n",
              "  </tbody>\n",
              "</table>\n",
              "</div>\n",
              "      <button class=\"colab-df-convert\" onclick=\"convertToInteractive('df-3e1a6843-500a-4e15-a927-812671939b78')\"\n",
              "              title=\"Convert this dataframe to an interactive table.\"\n",
              "              style=\"display:none;\">\n",
              "        \n",
              "  <svg xmlns=\"http://www.w3.org/2000/svg\" height=\"24px\"viewBox=\"0 0 24 24\"\n",
              "       width=\"24px\">\n",
              "    <path d=\"M0 0h24v24H0V0z\" fill=\"none\"/>\n",
              "    <path d=\"M18.56 5.44l.94 2.06.94-2.06 2.06-.94-2.06-.94-.94-2.06-.94 2.06-2.06.94zm-11 1L8.5 8.5l.94-2.06 2.06-.94-2.06-.94L8.5 2.5l-.94 2.06-2.06.94zm10 10l.94 2.06.94-2.06 2.06-.94-2.06-.94-.94-2.06-.94 2.06-2.06.94z\"/><path d=\"M17.41 7.96l-1.37-1.37c-.4-.4-.92-.59-1.43-.59-.52 0-1.04.2-1.43.59L10.3 9.45l-7.72 7.72c-.78.78-.78 2.05 0 2.83L4 21.41c.39.39.9.59 1.41.59.51 0 1.02-.2 1.41-.59l7.78-7.78 2.81-2.81c.8-.78.8-2.07 0-2.86zM5.41 20L4 18.59l7.72-7.72 1.47 1.35L5.41 20z\"/>\n",
              "  </svg>\n",
              "      </button>\n",
              "      \n",
              "  <style>\n",
              "    .colab-df-container {\n",
              "      display:flex;\n",
              "      flex-wrap:wrap;\n",
              "      gap: 12px;\n",
              "    }\n",
              "\n",
              "    .colab-df-convert {\n",
              "      background-color: #E8F0FE;\n",
              "      border: none;\n",
              "      border-radius: 50%;\n",
              "      cursor: pointer;\n",
              "      display: none;\n",
              "      fill: #1967D2;\n",
              "      height: 32px;\n",
              "      padding: 0 0 0 0;\n",
              "      width: 32px;\n",
              "    }\n",
              "\n",
              "    .colab-df-convert:hover {\n",
              "      background-color: #E2EBFA;\n",
              "      box-shadow: 0px 1px 2px rgba(60, 64, 67, 0.3), 0px 1px 3px 1px rgba(60, 64, 67, 0.15);\n",
              "      fill: #174EA6;\n",
              "    }\n",
              "\n",
              "    [theme=dark] .colab-df-convert {\n",
              "      background-color: #3B4455;\n",
              "      fill: #D2E3FC;\n",
              "    }\n",
              "\n",
              "    [theme=dark] .colab-df-convert:hover {\n",
              "      background-color: #434B5C;\n",
              "      box-shadow: 0px 1px 3px 1px rgba(0, 0, 0, 0.15);\n",
              "      filter: drop-shadow(0px 1px 2px rgba(0, 0, 0, 0.3));\n",
              "      fill: #FFFFFF;\n",
              "    }\n",
              "  </style>\n",
              "\n",
              "      <script>\n",
              "        const buttonEl =\n",
              "          document.querySelector('#df-3e1a6843-500a-4e15-a927-812671939b78 button.colab-df-convert');\n",
              "        buttonEl.style.display =\n",
              "          google.colab.kernel.accessAllowed ? 'block' : 'none';\n",
              "\n",
              "        async function convertToInteractive(key) {\n",
              "          const element = document.querySelector('#df-3e1a6843-500a-4e15-a927-812671939b78');\n",
              "          const dataTable =\n",
              "            await google.colab.kernel.invokeFunction('convertToInteractive',\n",
              "                                                     [key], {});\n",
              "          if (!dataTable) return;\n",
              "\n",
              "          const docLinkHtml = 'Like what you see? Visit the ' +\n",
              "            '<a target=\"_blank\" href=https://colab.research.google.com/notebooks/data_table.ipynb>data table notebook</a>'\n",
              "            + ' to learn more about interactive tables.';\n",
              "          element.innerHTML = '';\n",
              "          dataTable['output_type'] = 'display_data';\n",
              "          await google.colab.output.renderOutput(dataTable, element);\n",
              "          const docLink = document.createElement('div');\n",
              "          docLink.innerHTML = docLinkHtml;\n",
              "          element.appendChild(docLink);\n",
              "        }\n",
              "      </script>\n",
              "    </div>\n",
              "  </div>\n",
              "  "
            ]
          },
          "metadata": {},
          "execution_count": 56
        }
      ]
    },
    {
      "cell_type": "code",
      "source": [
        "# Melihat perbedaan actual dan prediksi\n",
        "sns.distplot(df_statsmod['actual_price'], label=\"Actual\")\n",
        "sns.distplot(df_statsmod['prediction_price'], label=\"Predicted\")\n",
        "plt.legend()\n",
        "plt.show"
      ],
      "metadata": {
        "colab": {
          "base_uri": "https://localhost:8080/",
          "height": 298
        },
        "id": "PXGl9yN1Oykv",
        "outputId": "cf3d8911-e3ef-4aeb-c0fa-f31831c8b74a"
      },
      "execution_count": 57,
      "outputs": [
        {
          "output_type": "execute_result",
          "data": {
            "text/plain": [
              "<function matplotlib.pyplot.show>"
            ]
          },
          "metadata": {},
          "execution_count": 57
        },
        {
          "output_type": "display_data",
          "data": {
            "text/plain": [
              "<Figure size 432x288 with 1 Axes>"
            ],
            "image/png": "[encoded data removed]"
          },
          "metadata": {
            "needs_background": "light"
          }
        }
      ]
    },
    {
      "cell_type": "markdown",
      "source": [
        "####Uji Asumsi Non-Autokorelasi\n",
        "Untuk melihat apakah terjadi korelasi antara suatu periode dengan periode sebelumnya. <br>\n",
        "Mengukur dari durbin watson 1,5 < x < 2,5, jika nilai asumsi sama dengan x maka tidak ada autokorelasi"
      ],
      "metadata": {
        "id": "a3Gky-DkEs17"
      }
    },
    {
      "cell_type": "code",
      "source": [
        "#uji asumsi non-autokorelasi\n",
        "statsmodels.stats.stattools.durbin_watson(results.resid, axis=0)"
      ],
      "metadata": {
        "colab": {
          "base_uri": "https://localhost:8080/"
        },
        "id": "KHHmp-QbPFfR",
        "outputId": "274a5ccf-06ea-4081-e4b4-9b5ad3e1041f"
      },
      "execution_count": 58,
      "outputs": [
        {
          "output_type": "execute_result",
          "data": {
            "text/plain": [
              "2.1194788829104727"
            ]
          },
          "metadata": {},
          "execution_count": 58
        }
      ]
    },
    {
      "cell_type": "markdown",
      "source": [
        "####Uji Homoskedastisitas\n",
        "Untuk melihat apakah terdapat ketidaksamaan variance dari residual. <br>\n",
        "Jika pada grafik **tidak** terjadi penyebaran secara horizontal & membuat suatu pola, maka homoskedastisitas residual terpenuhi."
      ],
      "metadata": {
        "id": "tXA7ENDoExKy"
      }
    },
    {
      "cell_type": "code",
      "source": [
        "#uji homoskedastisitas\n",
        "asm_homosk = plt.scatter(df_statsmod['prediction_price'], df_statsmod[\"residual\"])\n",
        "plt.xlabel('predicted')\n",
        "plt.ylabel('Residuals')\n",
        "asm_homosk = sns.lineplot([-3,9],[0,0],color='red')\n",
        "asm_homosk = plt.title('Residuals vs Prediction')"
      ],
      "metadata": {
        "colab": {
          "base_uri": "https://localhost:8080/",
          "height": 295
        },
        "id": "-tcgr9JyQzXs",
        "outputId": "bcc6e008-ce50-4561-e93d-3c8b13c39c45"
      },
      "execution_count": 59,
      "outputs": [
        {
          "output_type": "display_data",
          "data": {
            "text/plain": [
              "<Figure size 432x288 with 1 Axes>"
            ],
            "image/png": "[encoded data removed]"
          },
          "metadata": {
            "needs_background": "light"
          }
        }
      ]
    },
    {
      "cell_type": "code",
      "source": [
        ""
      ],
      "metadata": {
        "id": "H5C9va2URinJ"
      },
      "execution_count": 59,
      "outputs": []
    },
    {
      "cell_type": "markdown",
      "metadata": {
        "id": "1nqbmHcJJOI1"
      },
      "source": [
        "### EVALUATION"
      ]
    },
    {
      "cell_type": "code",
      "metadata": {
        "id": "3ydIFf8BJTkN",
        "colab": {
          "base_uri": "https://localhost:8080/"
        },
        "outputId": "11c318cc-ada5-4e03-b9de-26115ba37cd3"
      },
      "source": [
        "# R-square\n",
        "print('R-square :', metrics.r2_score(df_statsmod['actual_price'], df_statsmod['prediction_price']))"
      ],
      "execution_count": 60,
      "outputs": [
        {
          "output_type": "stream",
          "name": "stdout",
          "text": [
            "R-square : 0.6439340351944651\n"
          ]
        }
      ]
    },
    {
      "cell_type": "code",
      "source": [
        "# MSE\n",
        "print('MSE :', metrics.mean_squared_error(df_statsmod['actual_price'], df_statsmod['prediction_price']))"
      ],
      "metadata": {
        "colab": {
          "base_uri": "https://localhost:8080/"
        },
        "id": "oCQtpdyiSCHZ",
        "outputId": "4af7ea11-7d5a-4460-8068-4686806dde20"
      },
      "execution_count": 61,
      "outputs": [
        {
          "output_type": "stream",
          "name": "stdout",
          "text": [
            "MSE : 0.2188001203154404\n"
          ]
        }
      ]
    },
    {
      "cell_type": "code",
      "source": [
        "#uji T-Test\n",
        "t_test_const, t_test_X1, t_test_X2, t_test_X3, t_test_X4, t_test_X5, t_test_X6, t_test_X7, t_test_X8 = results.tvalues\n",
        "print(\"T-test score const: \", t_test_const)\n",
        "print(\"T-test score X1: \", t_test_X1)\n",
        "print(\"T-test score X2: \", t_test_X2)\n",
        "print(\"T-test score X3: \", t_test_X3)\n",
        "print(\"T-test score X4: \", t_test_X4)\n",
        "print(\"T-test score X5: \", t_test_X5)\n",
        "print(\"T-test score X6: \", t_test_X6)\n",
        "print(\"T-test score X7: \", t_test_X7)\n",
        "print(\"T-test score X8: \", t_test_X8)"
      ],
      "metadata": {
        "colab": {
          "base_uri": "https://localhost:8080/"
        },
        "id": "scxZoQhWSCV5",
        "outputId": "bead4daf-5437-4525-9e73-7ec54dcbb4b1"
      },
      "execution_count": 62,
      "outputs": [
        {
          "output_type": "stream",
          "name": "stdout",
          "text": [
            "T-test score const:  -0.0004004843797353824\n",
            "T-test score X1:  -1.6464661605246766\n",
            "T-test score X2:  11.1378275289513\n",
            "T-test score X3:  1.1646851733633188\n",
            "T-test score X4:  -0.016673616329113083\n",
            "T-test score X5:  3.5716364992386054\n",
            "T-test score X6:  2.113748214903645\n",
            "T-test score X7:  -0.22436122368490688\n",
            "T-test score X8:  0.25285410839451655\n"
          ]
        }
      ]
    },
    {
      "cell_type": "code",
      "source": [
        "p_value_const, p_value_X1, p_value_X2, p_value_X3, p_value_X4, p_value_X5, p_value_X6, p_value_X7, p_value_X8 = results.pvalues\n",
        "print(\"P-value const: \", p_value_const)\n",
        "print(\"P-value X1: \", p_value_X1)\n",
        "print(\"P-value X2: \", p_value_X2)\n",
        "print(\"P-value X3: \", p_value_X3)\n",
        "print(\"P-value X4: \", p_value_X4)\n",
        "print(\"P-value X5: \", p_value_X5)\n",
        "print(\"P-value X6: \", p_value_X6)\n",
        "print(\"P-value X7: \", p_value_X7)\n",
        "print(\"P-value X8: \", p_value_X8)"
      ],
      "metadata": {
        "colab": {
          "base_uri": "https://localhost:8080/"
        },
        "id": "CZGWg0ADUxrp",
        "outputId": "1ab01a27-c215-4b33-e8fa-75a9a1f7c4f7"
      },
      "execution_count": 63,
      "outputs": [
        {
          "output_type": "stream",
          "name": "stdout",
          "text": [
            "P-value const:  0.9996814692834479\n",
            "P-value X1:  0.10364054940514025\n",
            "P-value X2:  7.265294068124818e-18\n",
            "P-value X3:  0.24765146624831258\n",
            "P-value X4:  0.9867390335862904\n",
            "P-value X5:  0.0006077956834620968\n",
            "P-value X6:  0.03769208016293221\n",
            "P-value X7:  0.8230555027640992\n",
            "P-value X8:  0.8010377384310335\n"
          ]
        }
      ]
    },
    {
      "cell_type": "markdown",
      "source": [
        "<u> **Hasil** </u>:\n",
        "<br> didapatkan P-Value X2, X5, X6 kurang dari 0,05 sehingga ketiga variabel independen tersebut yang paling memengaruhi variabel dependen secara signifikan."
      ],
      "metadata": {
        "id": "v3FVLiWzV9qy"
      }
    },
    {
      "cell_type": "code",
      "source": [
        "#Uji kelayakan model menggunakan F-Test\n",
        "f_value = results.fvalue\n",
        "print(\"f-test score : \", f_value)\n",
        "\n",
        "p_value = results.f_pvalue\n",
        "print(\"P-value : \", p_value)\n",
        "\n",
        "if p_value < 0.05:\n",
        "  print(\"Tolak H0\")\n",
        "else:\n",
        "  print(\"Terima H0\")"
      ],
      "metadata": {
        "colab": {
          "base_uri": "https://localhost:8080/"
        },
        "id": "vxO3Np-gVclh",
        "outputId": "d2260d98-137d-470a-848d-28ed98b7739d"
      },
      "execution_count": 64,
      "outputs": [
        {
          "output_type": "stream",
          "name": "stdout",
          "text": [
            "f-test score :  37.256305563304394\n",
            "P-value :  9.25667429699835e-24\n",
            "Tolak H0\n"
          ]
        }
      ]
    },
    {
      "cell_type": "markdown",
      "source": [
        "<u> **Hasil** </u>:\n",
        "<br> P-Value kurang dari 0,05 sehingga H0 ditolak yang mana berarti bahwa model regresi antara delapan variabel independen dan variabel dependen price_rupiah layak digunakan."
      ],
      "metadata": {
        "id": "nHXBgQGIWdK_"
      }
    },
    {
      "cell_type": "code",
      "metadata": {
        "id": "8IZdj70jDC-2"
      },
      "source": [
        ""
      ],
      "execution_count": 64,
      "outputs": []
    },
    {
      "cell_type": "code",
      "source": [
        ""
      ],
      "metadata": {
        "id": "ltkVih31qMbl"
      },
      "execution_count": 64,
      "outputs": []
    }
  ]
}